{
 "cells": [
  {
   "cell_type": "code",
   "execution_count": null,
   "metadata": {},
   "outputs": [],
   "source": []
  },
  {
   "cell_type": "markdown",
   "metadata": {},
   "source": [
    "# Loading and Processing of PDFs with LangChain\n",
    "\n",
    "**pip install langchain langchain-openai pymupdf**\n",
    "\n",
    "**pip install \"unstructured[local-inference]\"**\n",
    "\n",
    "Sources:\n",
    "\n",
    "- Arslan Shahid, Chat with your PDFs using LangChain, https://medium.com/firebird-technologies/chat-with-your-pdfs-using-langchain-e57866b7926d\n",
    "\n",
    "- Santhosh Reddy D, What are Langchain Document Loaders?, https://www.analyticsvidhya.com/blog/2024/07/langchain-document-loaders/\n",
    "\n",
    "- LangChain, How to load PDFs, https://python.langchain.com/docs/how_to/document_loader_pdf/\n",
    "\n",
    "- LangChain, Document Loaders, https://python.langchain.com/docs/integrations/document_loaders/\n"
   ]
  },
  {
   "cell_type": "markdown",
   "metadata": {},
   "source": [
    "#### Example PDF:\n",
    "\n",
    "For this post, we will be using the Public Sector Development Program PDF document. The document is a holistic view of Pakistan’s Ministry of Planning & Development’s core program (PSDP).\n",
    "\n",
    "Download PDF from https://www.pc.gov.pk/uploads/archives/PSDP_2023-24.pdf"
   ]
  },
  {
   "cell_type": "markdown",
   "metadata": {},
   "source": [
    "### Loading PDFs using different PDF loaders in LangChain"
   ]
  },
  {
   "cell_type": "code",
   "execution_count": 1,
   "metadata": {},
   "outputs": [],
   "source": [
    "# import unstructured (may be incompatible with New ARC)\n",
    "import pymupdf\n",
    "\n",
    "# We will be using these PDF loaders but you can check out other loaded documents\n",
    "from langchain_community.document_loaders import PyMuPDFLoader\n",
    "from langchain_community.document_loaders import UnstructuredPDFLoader, UnstructuredFileLoader\n",
    "\n",
    "# This is the name of the report which should be in the directory\n",
    "# You can download the precise PDF I am using from here https://www.pc.gov.pk/uploads/archives/PSDP_2023-24.pdf\n",
    "file_path = 'data/PSDP_2023-24.pdf'\n",
    "\n",
    "# This loader uses PyMuPDF\n",
    "loader_py = PyMuPDFLoader(file_path)\n",
    "\n",
    "#This loader uses Unstructured\n",
    "# loader_un = UnstructuredPDFLoader(file_path)\n",
    "\n",
    "# Storing the loaded documents as langChain Document object\n",
    "pages_py = loader_py.load()\n",
    "\n",
    "# pages_un = loader_un.load()"
   ]
  },
  {
   "cell_type": "code",
   "execution_count": 2,
   "metadata": {},
   "outputs": [
    {
     "name": "stdout",
     "output_type": "stream",
     "text": [
      "Document(metadata={'producer': 'Wondershare PDFelement Pro', 'creator': 'Wondershare PDFelement Pro', 'creationdate': '2023-06-08T01:23:45-19:00', 'source': 'data/PSDP_2023-24.pdf', 'file_path': 'data/PSDP_2023-24.pdf', 'total_pages': 100, 'format': 'PDF 1.7', 'title': '', 'author': 'jacc8', 'subject': '', 'keywords': '', 'moddate': 'D', 'trapped': '', 'modDate': 'D', 'creationDate': \"D:20230608012345-19'00\", 'page': 0}, page_content='GOVERNMENT OF PAKISTAN \\n \\n \\n \\n \\n \\n \\n \\n \\nPUBLIC SECTOR DEVELOPMENT \\nPROGRAMME 2023-24 \\n \\n \\n \\n \\n \\n \\n \\n \\n \\nPLANNING COMMISSION \\nMINISTRY OF PLANNING, DEVELOPMENT \\n& SPECIAL INITIATIVES \\n \\n \\n \\n \\nJune, 2023')\n"
     ]
    }
   ],
   "source": [
    "from pprint import pprint\n",
    "pprint(pages_py[0])"
   ]
  },
  {
   "cell_type": "code",
   "execution_count": 3,
   "metadata": {},
   "outputs": [
    {
     "name": "stdout",
     "output_type": "stream",
     "text": [
      "{'author': 'jacc8',\n",
      " 'creationDate': \"D:20230608012345-19'00\",\n",
      " 'creationdate': '2023-06-08T01:23:45-19:00',\n",
      " 'creator': 'Wondershare PDFelement Pro',\n",
      " 'file_path': 'data/PSDP_2023-24.pdf',\n",
      " 'format': 'PDF 1.7',\n",
      " 'keywords': '',\n",
      " 'modDate': 'D',\n",
      " 'moddate': 'D',\n",
      " 'page': 0,\n",
      " 'producer': 'Wondershare PDFelement Pro',\n",
      " 'source': 'data/PSDP_2023-24.pdf',\n",
      " 'subject': '',\n",
      " 'title': '',\n",
      " 'total_pages': 100,\n",
      " 'trapped': ''}\n"
     ]
    }
   ],
   "source": [
    "pprint(pages_py[0].metadata)"
   ]
  },
  {
   "cell_type": "code",
   "execution_count": 4,
   "metadata": {},
   "outputs": [
    {
     "name": "stdout",
     "output_type": "stream",
     "text": [
      "('GOVERNMENT OF PAKISTAN \\n'\n",
      " ' \\n'\n",
      " ' \\n'\n",
      " ' \\n'\n",
      " ' \\n'\n",
      " ' \\n'\n",
      " ' \\n'\n",
      " ' \\n'\n",
      " ' \\n'\n",
      " 'PUBLIC SECTOR DEVELOPMENT \\n'\n",
      " 'PROGRAMME 2023-24 \\n'\n",
      " ' \\n'\n",
      " ' \\n'\n",
      " ' \\n'\n",
      " ' \\n'\n",
      " ' \\n'\n",
      " ' \\n'\n",
      " ' \\n'\n",
      " ' \\n'\n",
      " ' \\n'\n",
      " 'PLANNING COMMISSION \\n'\n",
      " 'MINISTRY OF PLANNING, DEVELOPMENT \\n'\n",
      " '& SPECIAL INITIATIVES \\n'\n",
      " ' \\n'\n",
      " ' \\n'\n",
      " ' \\n'\n",
      " ' \\n'\n",
      " 'June, 2023')\n"
     ]
    }
   ],
   "source": [
    "pprint(pages_py[0].page_content)"
   ]
  },
  {
   "cell_type": "code",
   "execution_count": null,
   "metadata": {},
   "outputs": [],
   "source": [
    "# pprint(pages_un[0])"
   ]
  },
  {
   "cell_type": "code",
   "execution_count": null,
   "metadata": {},
   "outputs": [],
   "source": [
    "# pprint(pages_un[0].page_content)"
   ]
  },
  {
   "cell_type": "markdown",
   "metadata": {},
   "source": [
    "### Data Cleaning"
   ]
  },
  {
   "cell_type": "code",
   "execution_count": 5,
   "metadata": {},
   "outputs": [
    {
     "name": "stderr",
     "output_type": "stream",
     "text": [
      "Created a chunk of size 119, which is longer than the specified 100\n",
      "Created a chunk of size 113, which is longer than the specified 100\n",
      "Created a chunk of size 118, which is longer than the specified 100\n",
      "Created a chunk of size 109, which is longer than the specified 100\n",
      "Created a chunk of size 114, which is longer than the specified 100\n",
      "Created a chunk of size 109, which is longer than the specified 100\n",
      "Created a chunk of size 116, which is longer than the specified 100\n",
      "Created a chunk of size 106, which is longer than the specified 100\n",
      "Created a chunk of size 112, which is longer than the specified 100\n",
      "Created a chunk of size 117, which is longer than the specified 100\n",
      "Created a chunk of size 102, which is longer than the specified 100\n",
      "Created a chunk of size 107, which is longer than the specified 100\n",
      "Created a chunk of size 110, which is longer than the specified 100\n",
      "Created a chunk of size 104, which is longer than the specified 100\n",
      "Created a chunk of size 120, which is longer than the specified 100\n",
      "Created a chunk of size 112, which is longer than the specified 100\n",
      "Created a chunk of size 111, which is longer than the specified 100\n",
      "Created a chunk of size 109, which is longer than the specified 100\n",
      "Created a chunk of size 114, which is longer than the specified 100\n",
      "Created a chunk of size 116, which is longer than the specified 100\n",
      "Created a chunk of size 115, which is longer than the specified 100\n",
      "Created a chunk of size 116, which is longer than the specified 100\n",
      "Created a chunk of size 115, which is longer than the specified 100\n"
     ]
    },
    {
     "name": "stdout",
     "output_type": "stream",
     "text": [
      "3165 100\n"
     ]
    }
   ],
   "source": [
    "# text splitter\n",
    "from langchain.text_splitter import CharacterTextSplitter\n",
    "text_splitter = CharacterTextSplitter(\n",
    "    # shows how to seperate\n",
    "    separator=\"\\n\",\n",
    "    # Shows the document token length\n",
    "    # chunk_size=1000,\n",
    "    chunk_size=100,\n",
    "    # How much overlap should exist between documents\n",
    "    # chunk_overlap=150,\n",
    "    chunk_overlap=15,\n",
    "    # How to measure length\n",
    "    length_function=len\n",
    ")\n",
    "\n",
    "# Applying the splitter\n",
    "docs = text_splitter.split_documents(pages_py)\n",
    "print(len(docs), len(pages_py))"
   ]
  },
  {
   "cell_type": "code",
   "execution_count": 6,
   "metadata": {},
   "outputs": [
    {
     "name": "stdout",
     "output_type": "stream",
     "text": [
      "('GOVERNMENT OF PAKISTAN \\n'\n",
      " ' \\n'\n",
      " ' \\n'\n",
      " ' \\n'\n",
      " ' \\n'\n",
      " ' \\n'\n",
      " ' \\n'\n",
      " ' \\n'\n",
      " ' \\n'\n",
      " 'PUBLIC SECTOR DEVELOPMENT \\n'\n",
      " 'PROGRAMME 2023-24')\n"
     ]
    }
   ],
   "source": [
    "pprint(docs[0].page_content)"
   ]
  },
  {
   "cell_type": "code",
   "execution_count": 7,
   "metadata": {},
   "outputs": [],
   "source": [
    "# a simple function that removes \\n newline from the content\n",
    "def remove_ws(d):\n",
    "    text = d.page_content.replace('\\n','')\n",
    "    d.page_content = text\n",
    "    return d\n",
    "\n",
    "# applied on the docs\n",
    "docs = [remove_ws(d) for d in docs]"
   ]
  },
  {
   "cell_type": "markdown",
   "metadata": {},
   "source": [
    "### Building a Retrieval"
   ]
  },
  {
   "cell_type": "code",
   "execution_count": 9,
   "metadata": {},
   "outputs": [],
   "source": [
    "import os\n",
    "\n",
    "# Paste your API key here. Remember to not share publicly\n",
    "# openai_api_key = open(\"/Users/mjack6/.secrets/openai_mjack.apikey\", \"r\").read().strip()\n",
    "openai_api_key = open(os.path.expanduser(\"~/.secrets/openai_pmolnar_gsu_edu_msa8700.apikey\"), \"r\").read().strip()\n",
    "\n",
    "os.environ[\"OPENAI_API_KEY\"] = openai_api_key"
   ]
  },
  {
   "cell_type": "code",
   "execution_count": 10,
   "metadata": {},
   "outputs": [
    {
     "name": "stderr",
     "output_type": "stream",
     "text": [
      "/tmp/ipykernel_3810440/3371733476.py:6: LangChainDeprecationWarning: The class `OpenAIEmbeddings` was deprecated in LangChain 0.0.9 and will be removed in 1.0. An updated version of the class exists in the :class:`~langchain-openai package and should be used instead. To use it run `pip install -U :class:`~langchain-openai` and import as `from :class:`~langchain_openai import OpenAIEmbeddings``.\n",
      "  embeddings = OpenAIEmbeddings(api_key=os.environ[\"OPENAI_API_KEY\"])\n"
     ]
    }
   ],
   "source": [
    "from langchain.llms import OpenAI\n",
    "from langchain.embeddings import OpenAIEmbeddings\n",
    "from langchain_community.vectorstores import FAISS\n",
    "\n",
    "# Uses OpenAI embeddings to build a retriever\n",
    "embeddings = OpenAIEmbeddings(api_key=os.environ[\"OPENAI_API_KEY\"])\n",
    "\n",
    "# Creates the document retriever using docs and embeddings\n",
    "db = FAISS.from_documents(docs, embeddings)"
   ]
  },
  {
   "cell_type": "code",
   "execution_count": 11,
   "metadata": {},
   "outputs": [
    {
     "name": "stdout",
     "output_type": "stream",
     "text": [
      "('1234567891065Lowari Road Tunnel & Access Roads Project (2nd Revised )ECNEC '\n",
      " '07.10.2022')\n",
      "('Foreign AidRupeeTotal(Rupees Million)G.Sl.No.Name of the ProjectApproval '\n",
      " 'Status')\n",
      "('Foreign AidRupeeTotal(Rupees Million)G.Sl.No.Name of the ProjectApproval '\n",
      " 'Status')\n",
      "('Foreign AidRupeeTotalG.Sl.No.Name of the ProjectApproval StatusApproved '\n",
      " 'CostEstimated')\n"
     ]
    }
   ],
   "source": [
    "# Asking the retriever to do similarity search based on Query\n",
    "query = \"Foreign Aid for Lowari Road Tunnel & Access Roads Project (2nd Revised )\"\n",
    "answer = db.similarity_search(query)\n",
    "\n",
    "for doc in answer:\n",
    "    pprint(doc.page_content)"
   ]
  },
  {
   "cell_type": "code",
   "execution_count": 12,
   "metadata": {},
   "outputs": [],
   "source": [
    "# Building the retriever\n",
    "retriever = db.as_retriever(search_kwargs={'k': 3})"
   ]
  },
  {
   "cell_type": "markdown",
   "metadata": {},
   "source": [
    "### Context-Augmentation for the LLM"
   ]
  },
  {
   "cell_type": "code",
   "execution_count": 14,
   "metadata": {},
   "outputs": [],
   "source": [
    "# Imports needed for the code to work.\n",
    "# Using a simple output parser and chat prompt template\n",
    "from langchain_core.output_parsers import StrOutputParser\n",
    "from langchain_core.prompts import ChatPromptTemplate\n",
    "from langchain_core.runnables import RunnablePassthrough\n",
    "from langchain_openai import ChatOpenAI, OpenAIEmbeddings\n",
    "\n",
    "\n",
    "# This is the prompt used\n",
    "template = \"\"\"\n",
    "\n",
    "You are a information retrieval AI. Format the retrieved information as a table or text\n",
    "\n",
    "\n",
    "Use only the context for your answers, do not make up information\n",
    "\n",
    "query: {query}\n",
    "\n",
    "{context} \n",
    "\"\"\"\n",
    "\n",
    "# Converts the prompt into a prompt template\n",
    "prompt = ChatPromptTemplate.from_template(template)\n",
    "# Using OpenAI model, by default gpt 3.5 Turbo\n",
    "model = ChatOpenAI(api_key=os.environ[\"OPENAI_API_KEY\"])\n",
    "\n",
    "# Construction of the chain\n",
    "chain = (\n",
    "# The initial dictionary uses the retriever and user supplied query\n",
    "    {\"context\":retriever,\n",
    "     \"query\":RunnablePassthrough()}\n",
    "# Feeds that context and query into the prompt then model & lastly \n",
    "# uses the ouput parser, do query for the data.\n",
    "    |  prompt  | model | StrOutputParser()\n",
    " \n",
    ")"
   ]
  },
  {
   "cell_type": "code",
   "execution_count": 15,
   "metadata": {},
   "outputs": [
    {
     "name": "stdout",
     "output_type": "stream",
     "text": [
      "('| Approved Cost Total | Approved Cost Foreign Aid | Throwforward | Estimated '\n",
      " 'Expenditure |\\n'\n",
      " '|-----------------------|---------------------------|--------------|----------------------|\\n'\n",
      " '| 361.96.000            | 267.41.594                | 94.54.500    | '\n",
      " '94.54.500            |')\n"
     ]
    }
   ],
   "source": [
    "# Asking for something inside the PDF image shown\n",
    "pprint(\n",
    "    chain.invoke(\"\"\"Find the details Antimicrobial Resistance\n",
    "        (AMR)containment and Infection\n",
    "        prevention Control(IPC) program\n",
    "\n",
    "\n",
    "        Break down the Approved Cost both Total and Foreign Aid, Throwforward and Estimated Expenditure \n",
    "        \"\"\")\n",
    "    )"
   ]
  },
  {
   "cell_type": "code",
   "execution_count": null,
   "metadata": {},
   "outputs": [],
   "source": []
  }
 ],
 "metadata": {
  "kernelspec": {
   "display_name": "Conda Python 3.12",
   "language": "python",
   "name": "conda-python3.12"
  },
  "language_info": {
   "codemirror_mode": {
    "name": "ipython",
    "version": 3
   },
   "file_extension": ".py",
   "mimetype": "text/x-python",
   "name": "python",
   "nbconvert_exporter": "python",
   "pygments_lexer": "ipython3",
   "version": "3.12.7"
  }
 },
 "nbformat": 4,
 "nbformat_minor": 4
}
