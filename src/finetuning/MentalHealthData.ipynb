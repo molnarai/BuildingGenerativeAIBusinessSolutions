{
 "cells": [
  {
   "cell_type": "code",
   "execution_count": 9,
   "id": "5e41fe25-36ce-46f8-83af-b4dc6e712176",
   "metadata": {},
   "outputs": [],
   "source": [
    "import pandas as pd\n",
    "import json"
   ]
  },
  {
   "cell_type": "code",
   "execution_count": 5,
   "id": "c6139e81-2e82-4bd8-a1e5-808e53ea95ea",
   "metadata": {},
   "outputs": [
    {
     "name": "stdout",
     "output_type": "stream",
     "text": [
      "Number of records: 3,512\n"
     ]
    }
   ],
   "source": [
    "dat_lines = open('data/mental_health_counseling_conversations_dataset.json', \"r\", encoding=\"utf-8\").readlines()\n",
    "print(f\"Number of records: {len(dat_lines):,}\")"
   ]
  },
  {
   "cell_type": "code",
   "execution_count": 10,
   "id": "1ddf7cb5-e7e3-4eb0-83e8-00f0d9754fd3",
   "metadata": {},
   "outputs": [
    {
     "data": {
      "text/plain": [
       "{'Context': \"I'm going through some things with my feelings and myself. I barely sleep and I do nothing but think about how I'm worthless and how I shouldn't be here.\\n   I've never tried or contemplated suicide. I've always wanted to fix my issues, but I never get around to it.\\n   How can I change my feeling of being worthless to everyone?\",\n",
       " 'Response': \"If everyone thinks you're worthless, then maybe you need to find new people to hang out with.Seriously, the social context in which a person lives is a big influence in self-esteem.Otherwise, you can go round and round trying to understand why you're not worthless, then go back to the same crowd and be knocked down again.There are many inspirational messages you can find in social media. \\xa0Maybe read some of the ones which state that no person is worthless, and that everyone has a good purpose to their life.Also, since our culture is so saturated with the belief that if someone doesn't feel good about themselves that this is somehow terrible.Bad feelings are part of living. \\xa0They are the motivation to remove ourselves from situations and relationships which do us more harm than good.Bad feelings do feel terrible. \\xa0 Your feeling of worthlessness may be good in the sense of motivating you to find out that you are much better than your feelings today.\"}"
      ]
     },
     "execution_count": 10,
     "metadata": {},
     "output_type": "execute_result"
    }
   ],
   "source": [
    "json.loads(dat_lines[0].strip())"
   ]
  },
  {
   "cell_type": "code",
   "execution_count": 30,
   "id": "cf257e44-ceab-4ce8-ac93-0fd70dd8e0db",
   "metadata": {},
   "outputs": [
    {
     "name": "stdout",
     "output_type": "stream",
     "text": [
      "Number of records: 3,512\n"
     ]
    }
   ],
   "source": [
    "\n",
    "df = pd.read_json('data/mental_health_counseling_conversations_dataset.json', lines=True)\n",
    "print(f\"Number of records: {df.shape[0]:,}\")\n",
    "assert set(df.columns) == {'Context', 'Response'}, f\"Invalid columns: {df.columns}\\n\\nShould be: ['Context', 'Response']\"\n",
    "assert df.shape[0]>=10, f\"A minimumn of 10 records is required. You provided {df.shape[0]:,}\"\n",
    "assert str(df.dtypes['Context']) == 'object', \"Column 'Context' is not of type Object\"\n",
    "assert str(df.dtypes['Response']) == 'object', \"Column 'Context' is not of type Object\"\n",
    "assert not pd.isnull(df['Context']).any(), \"There are NULL values in 'Context'\"\n",
    "assert not pd.isnull(df['Response']).any(), \"There are NULL values in 'Response'\"\n"
   ]
  },
  {
   "cell_type": "code",
   "execution_count": null,
   "id": "e86e7c33-e078-46fe-8596-fef1d14183cc",
   "metadata": {},
   "outputs": [],
   "source": []
  },
  {
   "cell_type": "code",
   "execution_count": null,
   "id": "80e6e921-9aca-4bd0-a494-a62f72666411",
   "metadata": {},
   "outputs": [],
   "source": []
  },
  {
   "cell_type": "code",
   "execution_count": 4,
   "id": "9c692c96-e68b-49a8-9a3c-3d22cdc54a9e",
   "metadata": {},
   "outputs": [
    {
     "name": "stdout",
     "output_type": "stream",
     "text": [
      "{\"Context\":\"I'm going through some things with my feelings and myself. I barely sleep and I do nothing but think about how I'm worthless and how I shouldn't be here.\\n   I've never tried or contemplated suicide. I've always wanted to fix my issues, but I never get around to it.\\n   How can I change my feeling of being worthless to everyone?\",\"Response\":\"If everyone thinks you're worthless, then maybe you need to find new people to hang out with.Seriously, the social context in which a person lives is a big influence in self-esteem.Otherwise, you can go round and round trying to understand why you're not worthless, then go back to the same crowd and be knocked down again.There are many inspirational messages you can find in social media. \\u00a0Maybe read some of the ones which state that no person is worthless, and that everyone has a good purpose to their life.Also, since our culture is so saturated with the belief that if someone doesn't feel good about themselves that this is somehow terrible.Bad feelings are part of living. \\u00a0They are the motivation to remove ourselves from situations and relationships which do us more harm than good.Bad feelings do feel terrible. \\u00a0 Your feeling of worthlessness may be good in the sense of motivating you to find out that you are much better than your feelings today.\"}\n",
      "{\"Context\":\"I'm going through some things with my feelings and myself. I barely sleep and I do nothing but think about how I'm worthless and how I shouldn't be here.\\n   I've never tried or contemplated suicide. I've always wanted to fix my issues, but I never get around to it.\\n   How can I change my feeling of being worthless to everyone?\",\"Response\":\"Hello, and thank you for your question and seeking advice on this. Feelings of worthlessness is unfortunately common. In fact, most people, if not all, have felt this to some degree at some point in their life. You are not alone.\\u00a0Changing our feelings is like changing our thoughts - it's hard to do. Our minds are so amazing that the minute you change your thought another one can be right there to take it's place. Without your permission, another thought can just pop in there. The new thought may feel worse than the last one! My guess is that you have tried several things to improve this on your own even before reaching out on here. People often try thinking positive thoughts, debating with their thoughts, or simply telling themselves that they need to \\\"snap out of it\\\" - which is also a thought that carries some self-criticism.\\u00a0Some people try a different approach, and there are counselors out there that can help you with this. The idea is that instead of trying to change the thoughts, you change how you respond to them. You learn skills that allow you to manage difficult thoughts and feelings differently so they don't have the same impact on you that they do right now. For some people, they actually DO begin to experience less hurtful thoughts once they learn how to manage the ones they have differently. Acceptance and Commitment Therapy may be a good choice for you.\\u00a0There is information online and even self-help books that you can use to teach you the skills that I mentioned. Because they are skills, they require practice, but many people have found great relief and an enriched life by learning them.\\u00a0As for suicidal thoughts, I am very glad to read that this has not happened to you. Still, you should watch out for this because it can be a sign of a worsening depression. If you begin to think about this, it is important to reach out to a support system right away. The National Suicide Prevention Lifeline is 1-800-273-8255. The text line is #741741.\\u00a0I hope some other colleagues will provide you more suggestions.\\u00a0Be well...Robin Landwehr, DBH, LPCC\"}\n",
      "{\"Context\":\"I'm going through some things with my feelings and myself. I barely sleep and I do nothing but think about how I'm worthless and how I shouldn't be here.\\n   I've never tried or contemplated suicide. I've always wanted to fix my issues, but I never get around to it.\\n   How can I change my feeling of being worthless to everyone?\",\"Response\":\"First thing I'd suggest is getting the sleep you need or it will impact how you think and feel. I'd look at finding what is going well in your life and what you can be grateful for. I believe everyone has talents and wants to find their purpose in life. I think you can figure it out with some help.\"}\n",
      "{\"Context\":\"I'm going through some things with my feelings and myself. I barely sleep and I do nothing but think about how I'm worthless and how I shouldn't be here.\\n   I've never tried or contemplated suicide. I've always wanted to fix my issues, but I never get around to it.\\n   How can I change my feeling of being worthless to everyone?\",\"Response\":\"Therapy is essential for those that are feeling depressed and worthless. When I work with those that are experiencing concerns related to feeling of depression and issues with self esteem. I generally work with my client to help build coping skills to reduce level of depression and to assist with strengthening \\u00a0self esteem, by guiding my client with CBT practices. CBT helps with gaining a better awareness of how your thought process influences your\\u00a0belief system, and how your beliefs impact your actions and the outcome of your behaviors. \\u00a0This process isn\\u2019t easy but it helps teach an individual that we don\\u2019t always have control over what happens in our lives but we can control how we interpret, feel, and behave. CBT is good for individuals dealing with depression, anxiety, toxic relationships, stress, self esteem, codependency, etc.\"}\n",
      "{\"Context\":\"I'm going through some things with my feelings and myself. I barely sleep and I do nothing but think about how I'm worthless and how I shouldn't be here.\\n   I've never tried or contemplated suicide. I've always wanted to fix my issues, but I never get around to it.\\n   How can I change my feeling of being worthless to everyone?\",\"Response\":\"I first want to let you know that you are not alone in your feelings and there is always someone there to help. You can always change your feelings and change your way of thinking by being open to trying to change. You can always make yourself available to learning new things or volunteering so that you can make a purpose for yourself.\"}\n",
      "{\"Context\":\"I'm going through some things with my feelings and myself. I barely sleep and I do nothing but think about how I'm worthless and how I shouldn't be here.\\n   I've never tried or contemplated suicide. I've always wanted to fix my issues, but I never get around to it.\\n   How can I change my feeling of being worthless to everyone?\",\"Response\":\"Heck, sure thing, hun!Feelings of 'depression' have a deeply-rooted base in physical structures that may not be functioning very well at present; and, we can certainly turn them on again using means that you are able to find around the house and with relative ease :)After that, emotional and spiritual support will be liberally applied.\"}\n",
      "{\"Context\":\"I'm going through some things with my feelings and myself. I barely sleep and I do nothing but think about how I'm worthless and how I shouldn't be here.\\n   I've never tried or contemplated suicide. I've always wanted to fix my issues, but I never get around to it.\\n   How can I change my feeling of being worthless to everyone?\",\"Response\":\"You are exhibiting some specific traits of a particular temperament type. Seek out a counselor who provides NCCA temperament therapy and discover the joy of being you -- God loves you as you are!\"}\n",
      "{\"Context\":\"I'm going through some things with my feelings and myself. I barely sleep and I do nothing but think about how I'm worthless and how I shouldn't be here.\\n   I've never tried or contemplated suicide. I've always wanted to fix my issues, but I never get around to it.\\n   How can I change my feeling of being worthless to everyone?\",\"Response\":\"That is intense. Depression is a liar. Sometimes depression places these glasses over our eyes, these dark sunglasses that change how we see things.\\u00a0Depression tells us things like \\\"you're worthless\\\" \\\"no one likes you\\\" \\\"don't worry about doing anything.\\\" And it is so easy for us to listen and to be tricked into thinking that just because we feel something means it is true. Please know that even if you are feeling worthless right now, that doesn't mean you are worthless.The first step to working through this is recognizing what is going on. Recognizing when depression is telling you the same story (ie; being worthless) with different words (ie worthless here, worthless there) and making an effort to talk back.\\u00a0While I can not give you a diagnosis of depression, reading what you are going through, it sounds like you might need help to get back on track. Seeing a counselor can open an entirely new option up wherein someone who is not involved in your life can help you without judgement and with an objective perspective. This can do wonders in unwrapping these kinds of thoughts. Wishing you the absolute best!\"}\n",
      "{\"Context\":\"I'm going through some things with my feelings and myself. I barely sleep and I do nothing but think about how I'm worthless and how I shouldn't be here.\\n   I've never tried or contemplated suicide. I've always wanted to fix my issues, but I never get around to it.\\n   How can I change my feeling of being worthless to everyone?\",\"Response\":\"It sounds like you may be putting yourself last. You wrote that you want to fix your issues but never get around to it. I wonder how you are spending your mental and physical energy. Are you spending time taking care of and doing for others? I also wonder where the thoughts and feelings of being worthless are coming from - are you around people who treat you poorly or are hurtful? Or do you feel it is more of a worry you have but aren't really sure how others feel? It may be helpful to talk to someone about your feelings - a counselor perhaps - to clarify your feelings and move forward from se that are hurting you.\"}\n",
      "{\"Context\":\"I'm going through some things with my feelings and myself. I barely sleep and I do nothing but think about how I'm worthless and how I shouldn't be here.\\n   I've never tried or contemplated suicide. I've always wanted to fix my issues, but I never get around to it.\\n   How can I change my feeling of being worthless to everyone?\",\"Response\":\"It must be really difficult to experience what your going through right now. \\u00a0It takes a lot of courage to reach out. It sounds like you want to get better, but perhaps need some help to get over the hump. \\u00a0Many of the symptoms you have described are consistent with a person who is dealing with depression. \\u00a0 Depression is a treatable condition. \\u00a0Typically, if these symptoms have persisted for more than two weeks, then it is a good idea to seek professional help. \\u00a0 Someone who is trained in dealing with depression. \\u00a0Initially, a comprehensive assessment would be completed to rule out any other causes for your symptoms and to determine the exact nature of your presenting concern. \\u00a0Then, in collaboration with one another, a tailored treatment plan would be developed, focusing on how to best help you reach your goals. \\u00a0The good news is that their is hope for getting better! You don;t have to do it alone. \\u00a0Allow me to be your ally in healing.\"}\n"
     ]
    }
   ],
   "source": [
    "! head data/mental_health_counseling_conversations_dataset.json"
   ]
  },
  {
   "cell_type": "code",
   "execution_count": null,
   "id": "3fa896e2-9d16-40c1-8492-8973b91bc99e",
   "metadata": {},
   "outputs": [],
   "source": []
  }
 ],
 "metadata": {
  "kernelspec": {
   "display_name": "Python 3 (ipykernel)",
   "language": "python",
   "name": "python3"
  },
  "language_info": {
   "codemirror_mode": {
    "name": "ipython",
    "version": 3
   },
   "file_extension": ".py",
   "mimetype": "text/x-python",
   "name": "python",
   "nbconvert_exporter": "python",
   "pygments_lexer": "ipython3",
   "version": "3.11.7"
  }
 },
 "nbformat": 4,
 "nbformat_minor": 5
}
