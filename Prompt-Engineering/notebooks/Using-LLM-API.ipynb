{
 "cells": [
  {
   "cell_type": "markdown",
   "id": "51698455-7394-46b8-b372-1cc115290196",
   "metadata": {},
   "source": [
    "# Using LLM API"
   ]
  },
  {
   "cell_type": "code",
   "execution_count": 43,
   "id": "90a0146a-9dfb-4f79-842e-4b0d2def33bd",
   "metadata": {},
   "outputs": [],
   "source": [
    "import os\n",
    "jp = os.path.join\n",
    "import sys\n",
    "import datetime\n",
    "import json\n",
    "T_now = datetime.datetime.now\n",
    "from openai import OpenAI\n"
   ]
  },
  {
   "cell_type": "markdown",
   "id": "f2e9f9d9-b0dd-4b9f-afe8-a0682700b477",
   "metadata": {},
   "source": [
    "Load secret API Key"
   ]
  },
  {
   "cell_type": "code",
   "execution_count": 44,
   "id": "cd11aa28-25e5-4922-89ab-728c2a1b4428",
   "metadata": {},
   "outputs": [],
   "source": [
    "openai_api_key = open(jp(os.path.expanduser(\"~\"), \".secrets\", \"openai_pmolnar_gsu_edu_msa8700.apikey\"), \"r\").read().strip()\n",
    "os.environ[\"OPENAI_API_KEY\"] = openai_api_key\n",
    "client = OpenAI(api_key = openai_api_key)"
   ]
  },
  {
   "cell_type": "markdown",
   "id": "26faf840-4fe1-4cba-bd9a-0c9952589299",
   "metadata": {},
   "source": [
    "Example: Completions API https://platform.openai.com/docs/guides/completions"
   ]
  },
  {
   "cell_type": "code",
   "execution_count": 45,
   "id": "667a5e28-adb6-41ab-9b32-4ba6ee5b00c5",
   "metadata": {},
   "outputs": [],
   "source": [
    "\n",
    "response = client.completions.create(\n",
    "  model=\"gpt-3.5-turbo-instruct\",\n",
    "  prompt=\"Write a tagline for an ice cream shop.\"\n",
    ")"
   ]
  },
  {
   "cell_type": "code",
   "execution_count": 46,
   "id": "0e5648f9-0d0f-407b-a97e-90a576f22303",
   "metadata": {},
   "outputs": [
    {
     "data": {
      "text/plain": [
       "{'id': 'cmpl-Ax09D5ENsjotB1tQmDRoBqNCxykqk',\n",
       " 'choices': [{'finish_reason': 'stop',\n",
       "   'index': 0,\n",
       "   'logprobs': None,\n",
       "   'text': '\\n\\n\"Satisfy your sweet cravings with our creamy delights!\" '}],\n",
       " 'created': 1738625283,\n",
       " 'model': 'gpt-3.5-turbo-instruct:20230824-v2',\n",
       " 'object': 'completion',\n",
       " 'system_fingerprint': None,\n",
       " 'usage': {'completion_tokens': 14,\n",
       "  'prompt_tokens': 10,\n",
       "  'total_tokens': 24,\n",
       "  'prompt_tokens_details': {'cached_tokens': 0, 'audio_tokens': 0},\n",
       "  'completion_tokens_details': {'reasoning_tokens': 0,\n",
       "   'audio_tokens': 0,\n",
       "   'accepted_prediction_tokens': 0,\n",
       "   'rejected_prediction_tokens': 0}}}"
      ]
     },
     "metadata": {},
     "output_type": "display_data"
    }
   ],
   "source": [
    "res = json.loads(response.json())\n",
    "display(res)"
   ]
  },
  {
   "cell_type": "markdown",
   "id": "c482e113-32f4-4566-8092-7bd1f161f8bc",
   "metadata": {},
   "source": [
    "https://platform.openai.com/docs/quickstart?language=python \n",
    "\n",
    "Chat completion\n"
   ]
  },
  {
   "cell_type": "raw",
   "id": "60101b87-0f0e-4c3e-8a8e-4ecf080dfaa8",
   "metadata": {},
   "source": [
    "[{\"role\": \"user\", \"content\": 'Translate the following English text to French: \"{text}\"'}]"
   ]
  },
  {
   "cell_type": "code",
   "execution_count": 36,
   "id": "b1e1ad00-648e-4d86-b259-41ba0dd244df",
   "metadata": {},
   "outputs": [
    {
     "name": "stdout",
     "output_type": "stream",
     "text": [
      "ChatCompletionMessage(content='Endless calls unwind,  \\nFunction mirrors its own path,  \\nDepth calls back to start.', role='assistant', function_call=None, tool_calls=None, refusal=None)\n"
     ]
    }
   ],
   "source": [
    "completion = client.chat.completions.create(\n",
    "    model=\"gpt-4o-mini\",\n",
    "    messages=[\n",
    "        {\"role\": \"system\", \"content\": \"You are a helpful assistant.\"},\n",
    "        {\n",
    "            \"role\": \"user\",\n",
    "            \"content\": \"Write a haiku about recursion in programming.\"\n",
    "        }\n",
    "    ]\n",
    ")\n",
    "\n",
    "print(completion.choices[0].message)"
   ]
  },
  {
   "cell_type": "code",
   "execution_count": null,
   "id": "bb5307bb-55a5-4dfb-a9ac-7daff31eee3f",
   "metadata": {},
   "outputs": [],
   "source": []
  },
  {
   "cell_type": "markdown",
   "id": "e56d9c3e-9649-4d4e-87e3-ca791251df2e",
   "metadata": {},
   "source": [
    "# LangChain"
   ]
  },
  {
   "cell_type": "code",
   "execution_count": 37,
   "id": "142d2257-32b7-4dab-9f5a-6d2b63f53567",
   "metadata": {},
   "outputs": [],
   "source": [
    "from langchain_openai import ChatOpenAI"
   ]
  },
  {
   "cell_type": "code",
   "execution_count": 38,
   "id": "060e75ec-dae7-4dc5-ae9a-25203b471311",
   "metadata": {},
   "outputs": [],
   "source": [
    "model = ChatOpenAI(model=\"gpt-4o-mini\")"
   ]
  },
  {
   "cell_type": "code",
   "execution_count": 39,
   "id": "5b98591c-6853-442a-94bb-7f9a0e03b97b",
   "metadata": {},
   "outputs": [
    {
     "data": {
      "text/plain": [
       "AIMessage(content='Hello! How can I assist you today?', additional_kwargs={'refusal': None}, response_metadata={'token_usage': {'completion_tokens': 10, 'prompt_tokens': 11, 'total_tokens': 21, 'prompt_tokens_details': {'cached_tokens': 0, 'audio_tokens': 0}, 'completion_tokens_details': {'reasoning_tokens': 0, 'audio_tokens': 0, 'accepted_prediction_tokens': 0, 'rejected_prediction_tokens': 0}}, 'model_name': 'gpt-4o-mini-2024-07-18', 'system_fingerprint': 'fp_72ed7ab54c', 'finish_reason': 'stop', 'logprobs': None}, id='run-ee25cfc3-0b98-45df-8c20-0b2240f899ba-0', usage_metadata={'input_tokens': 11, 'output_tokens': 10, 'total_tokens': 21})"
      ]
     },
     "execution_count": 39,
     "metadata": {},
     "output_type": "execute_result"
    }
   ],
   "source": [
    "model.invoke(\"Hello, world!\")"
   ]
  },
  {
   "cell_type": "code",
   "execution_count": null,
   "id": "0efd50dd-d2cc-4993-8e30-16da42879f53",
   "metadata": {},
   "outputs": [],
   "source": []
  },
  {
   "cell_type": "code",
   "execution_count": null,
   "id": "2a2cf6a3-1358-4442-b201-c0dd689ea7cb",
   "metadata": {},
   "outputs": [],
   "source": []
  },
  {
   "cell_type": "code",
   "execution_count": null,
   "id": "b14b903b-d0fe-44ac-b0cb-73515cf78c84",
   "metadata": {},
   "outputs": [],
   "source": []
  }
 ],
 "metadata": {
  "kernelspec": {
   "display_name": "Python 3 (ipykernel)",
   "language": "python",
   "name": "python3"
  },
  "language_info": {
   "codemirror_mode": {
    "name": "ipython",
    "version": 3
   },
   "file_extension": ".py",
   "mimetype": "text/x-python",
   "name": "python",
   "nbconvert_exporter": "python",
   "pygments_lexer": "ipython3",
   "version": "3.8.6"
  }
 },
 "nbformat": 4,
 "nbformat_minor": 5
}
