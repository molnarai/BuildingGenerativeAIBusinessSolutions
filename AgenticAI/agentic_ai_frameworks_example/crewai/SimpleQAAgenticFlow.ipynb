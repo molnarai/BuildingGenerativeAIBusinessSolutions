{
 "cells": [
  {
   "cell_type": "code",
   "execution_count": null,
   "metadata": {},
   "outputs": [],
   "source": []
  },
  {
   "cell_type": "markdown",
   "metadata": {},
   "source": [
    "# Simple QA Agentic Flow with crewAI\n",
    "\n",
    "Source:\n",
    "\n",
    "Examples for crewAI\n",
    "https://github.com/crewAIInc/crewAI-examples/tree/main\n",
    "\n",
    "Notebooks:\n",
    "https://github.com/crewAIInc/crewAI-examples/tree/main/Notebooks\n",
    "\n",
    "Notebook (modified):\n",
    "https://github.com/crewAIInc/crewAI-examples/blob/main/Notebooks/Flows/Simple%20QA%20Crew%20%2B%20Flow/simple_qa_agentic_flow.ipynb"
   ]
  },
  {
   "cell_type": "markdown",
   "metadata": {},
   "source": [
    "# Install dependencies"
   ]
  },
  {
   "cell_type": "code",
   "execution_count": 1,
   "metadata": {},
   "outputs": [],
   "source": [
    "%%capture --no-stderr\n",
    "# %pip install -U --quiet 'crewai[tools]' aisuite"
   ]
  },
  {
   "cell_type": "markdown",
   "metadata": {},
   "source": [
    "# Set environment variables"
   ]
  },
  {
   "cell_type": "code",
   "execution_count": 2,
   "metadata": {},
   "outputs": [],
   "source": [
    "import os\n",
    "OPENAI_API_KEY = open(\"/Users/mjack6/.secrets/openai_mjack.apikey\", \"r\").read().strip()\n",
    "os.environ[\"OPENAI_API_KEY\"] = OPENAI_API_KEY"
   ]
  },
  {
   "cell_type": "code",
   "execution_count": 3,
   "metadata": {},
   "outputs": [],
   "source": [
    "# Apply a patch to allow nested asyncio loops in Jupyter\n",
    "import nest_asyncio\n",
    "nest_asyncio.apply()"
   ]
  },
  {
   "cell_type": "markdown",
   "metadata": {},
   "source": [
    "# Create Crew"
   ]
  },
  {
   "cell_type": "code",
   "execution_count": 4,
   "metadata": {},
   "outputs": [
    {
     "name": "stderr",
     "output_type": "stream",
     "text": [
      "/Users/mjack6/GSU_Spring2025/MSA8700/venv_agenticai/lib/python3.11/site-packages/pydantic/_internal/_config.py:295: PydanticDeprecatedSince20: Support for class-based `config` is deprecated, use ConfigDict instead. Deprecated in Pydantic V2.0 to be removed in V3.0. See Pydantic V2 Migration Guide at https://errors.pydantic.dev/2.10/migration/\n",
      "  warnings.warn(DEPRECATION_MESSAGE, DeprecationWarning)\n",
      "/Users/mjack6/GSU_Spring2025/MSA8700/venv_agenticai/lib/python3.11/site-packages/pydantic/_internal/_generate_schema.py:502: UserWarning: <built-in function callable> is not a Python type (it may be an instance of an object), Pydantic will allow any object with no validation since we cannot even enforce that the input is an instance of the given type. To get rid of this error wrap the type with `pydantic.SkipValidation`.\n",
      "  warn(\n",
      "/Users/mjack6/GSU_Spring2025/MSA8700/venv_agenticai/lib/python3.11/site-packages/crewai_tools/tools/scrapegraph_scrape_tool/scrapegraph_scrape_tool.py:34: PydanticDeprecatedSince20: Pydantic V1 style `@validator` validators are deprecated. You should migrate to Pydantic V2 style `@field_validator` validators, see the migration guide for more details. Deprecated in Pydantic V2.0 to be removed in V3.0. See Pydantic V2 Migration Guide at https://errors.pydantic.dev/2.10/migration/\n",
      "  @validator(\"website_url\")\n",
      "/Users/mjack6/GSU_Spring2025/MSA8700/venv_agenticai/lib/python3.11/site-packages/crewai_tools/tools/selenium_scraping_tool/selenium_scraping_tool.py:26: PydanticDeprecatedSince20: Pydantic V1 style `@validator` validators are deprecated. You should migrate to Pydantic V2 style `@field_validator` validators, see the migration guide for more details. Deprecated in Pydantic V2.0 to be removed in V3.0. See Pydantic V2 Migration Guide at https://errors.pydantic.dev/2.10/migration/\n",
      "  @validator(\"website_url\")\n",
      "/Users/mjack6/GSU_Spring2025/MSA8700/venv_agenticai/lib/python3.11/site-packages/crewai_tools/tools/vision_tool/vision_tool.py:15: PydanticDeprecatedSince20: Pydantic V1 style `@validator` validators are deprecated. You should migrate to Pydantic V2 style `@field_validator` validators, see the migration guide for more details. Deprecated in Pydantic V2.0 to be removed in V3.0. See Pydantic V2 Migration Guide at https://errors.pydantic.dev/2.10/migration/\n",
      "  @validator(\"image_path_url\")\n"
     ]
    }
   ],
   "source": [
    "# Importing Crew related components\n",
    "# Importing CrewAI Flow related components\n",
    "# Importing CrewAI Tools\n",
    "from crewai import Agent, Task, Crew\n",
    "from crewai.flow.flow import Flow, listen, start\n",
    "from crewai_tools import WebsiteSearchTool\n",
    "\n",
    "# Importing AI Suite for adhoc LLM calls and Pydantic\n",
    "from pydantic import BaseModel\n",
    "import aisuite as ai"
   ]
  },
  {
   "cell_type": "code",
   "execution_count": 5,
   "metadata": {},
   "outputs": [
    {
     "name": "stderr",
     "output_type": "stream",
     "text": [
      "Inserting batches in chromadb: 100%|██████████| 1/1 [00:01<00:00,  1.55s/it]\n",
      "Inserting batches in chromadb: 100%|██████████| 1/1 [00:00<00:00,  1.42it/s]\n",
      "Inserting batches in chromadb: 100%|██████████| 1/1 [00:01<00:00,  1.22s/it]\n"
     ]
    }
   ],
   "source": [
    "urls = [\n",
    "    \"https://lilianweng.github.io/posts/2023-06-23-agent/\",\n",
    "    \"https://lilianweng.github.io/posts/2023-03-15-prompt-engineering/\",\n",
    "    \"https://lilianweng.github.io/posts/2023-10-25-adv-attack-llm/\",\n",
    "]\n",
    "\n",
    "research_agent = Agent(\n",
    "    role=\"You are a helpful assistant that can answer questions about the web.\",\n",
    "    goal=\"Answer the user's question.\",\n",
    "    backstory=\"You have access to a vast knowledge base of information from the web.\",\n",
    "    tools=[\n",
    "      WebsiteSearchTool(website=urls[0]),\n",
    "      WebsiteSearchTool(website=urls[1]),\n",
    "      WebsiteSearchTool(website=urls[2]),\n",
    "    ],\n",
    "    llm=\"gpt-4o-mini\",\n",
    ")\n",
    "\n",
    "task = Task(\n",
    "  description=\"Answer the following question: {question}\",\n",
    "  expected_output=\"A detailed and accurate answer to the user's question.\",\n",
    "  agent=research_agent,\n",
    ")\n",
    "\n",
    "crew = Crew(\n",
    "    agents=[research_agent],\n",
    "    tasks=[task],\n",
    ")"
   ]
  },
  {
   "cell_type": "markdown",
   "metadata": {},
   "source": [
    "# Creating State"
   ]
  },
  {
   "cell_type": "code",
   "execution_count": 6,
   "metadata": {},
   "outputs": [],
   "source": [
    "class QAState(BaseModel):\n",
    "  \"\"\"\n",
    "  State for the documentation flow\n",
    "  \"\"\"\n",
    "  question: str = \"What does Lilian Weng say about the types of agent memory?\"\n",
    "  improved_question: str = \"\"\n",
    "  answer: str = \"\""
   ]
  },
  {
   "cell_type": "markdown",
   "metadata": {},
   "source": [
    "# Creating Flow"
   ]
  },
  {
   "cell_type": "code",
   "execution_count": 7,
   "metadata": {},
   "outputs": [],
   "source": [
    "class QAFlow(Flow[QAState]):\n",
    "  @start()\n",
    "  def rewrite_question(self):\n",
    "    print(f\"# Rewriting question: {self.state.question}\")\n",
    "    client = ai.Client()\n",
    "    messages = [\n",
    "        {\n",
    "          \"role\": \"system\",\n",
    "          \"content\": f\"\"\"Look at the input and try to reason about the underlying semantic intent / meaning.\n",
    "            Here is the initial question:\n",
    "            -------\n",
    "            {self.state.question}\n",
    "            -------\n",
    "            Formulate an improved question:\"\"\"\n",
    "        }\n",
    "    ]\n",
    "\n",
    "    response = client.chat.completions.create(\n",
    "        model=\"openai:gpt-4o-mini\",\n",
    "        messages=messages,\n",
    "        temperature=0.3\n",
    "    )\n",
    "\n",
    "    print(response)\n",
    "\n",
    "    improved_question = response.choices[0].message.content\n",
    "    self.state.improved_question = improved_question\n",
    "\n",
    "  @listen(rewrite_question)\n",
    "  def answer_question(self):\n",
    "    print(f\"# Answering question: {self.state.improved_question}\")\n",
    "    result = crew.kickoff(inputs={'question': self.state.improved_question})\n",
    "    self.state.answer = result.raw\n",
    "    return result\n"
   ]
  },
  {
   "cell_type": "markdown",
   "metadata": {},
   "source": [
    "# Plotting Flow"
   ]
  },
  {
   "cell_type": "code",
   "execution_count": 10,
   "metadata": {},
   "outputs": [
    {
     "name": "stdout",
     "output_type": "stream",
     "text": [
      "\u001b[1m\u001b[94m \n",
      "[2025-03-13 14:48:21][🌊 FLOW CREATED: 'QAFLOW']: 2025-03-13 14:48:21.181601\u001b[00m\n",
      "Plot saved as crewai_flow.html\n"
     ]
    }
   ],
   "source": [
    "flow = QAFlow()\n",
    "flow.plot()"
   ]
  },
  {
   "cell_type": "code",
   "execution_count": 15,
   "metadata": {},
   "outputs": [
    {
     "data": {
      "text/html": [
       "\n",
       "        <iframe\n",
       "            width=\"100%\"\n",
       "            height=\"400\"\n",
       "            src=\"./crewai_flow.html\"\n",
       "            frameborder=\"0\"\n",
       "            allowfullscreen\n",
       "            \n",
       "        ></iframe>\n",
       "        "
      ],
      "text/plain": [
       "<IPython.lib.display.IFrame at 0x139189b90>"
      ]
     },
     "execution_count": 15,
     "metadata": {},
     "output_type": "execute_result"
    }
   ],
   "source": [
    "# Display the flow visualization using HTML\n",
    "from IPython.display import IFrame\n",
    "IFrame(src='./crewai_flow.html', width='100%', height=400)"
   ]
  },
  {
   "cell_type": "markdown",
   "metadata": {},
   "source": [
    "# Kicking off Flow"
   ]
  },
  {
   "cell_type": "code",
   "execution_count": 9,
   "metadata": {},
   "outputs": [
    {
     "name": "stdout",
     "output_type": "stream",
     "text": [
      "\u001b[1m\u001b[94m \n",
      "[2025-03-13 14:47:33][🤖 FLOW STARTED: 'QAFLOW', D89FA34D-2656-4770-9164-E447D7CF8F25]: 2025-03-13 14:47:33.442886\u001b[00m\n",
      "\u001b[1m\u001b[35m Flow started with ID: d89fa34d-2656-4770-9164-e447d7cf8f25\u001b[00m\n",
      "\u001b[1m\u001b[94m \n",
      "[2025-03-13 14:47:33][🤖 FLOW METHOD STARTED: 'REWRITE_QUESTION']: 2025-03-13 14:47:33.444760\u001b[00m\n",
      "# Rewriting question: What does Lilian Weng say about the types of agent memory?\n",
      "ChatCompletion(id='chatcmpl-BAhsbtElvEOhcatNpI9Ee2Si96Pew', choices=[Choice(finish_reason='stop', index=0, logprobs=None, message=ChatCompletionMessage(content='What insights does Lilian Weng provide regarding the different types of agent memory?', refusal=None, role='assistant', audio=None, function_call=None, tool_calls=None, annotations=[]))], created=1741891653, model='gpt-4o-mini-2024-07-18', object='chat.completion', service_tier='default', system_fingerprint='fp_06737a9306', usage=CompletionUsage(completion_tokens=17, prompt_tokens=56, total_tokens=73, completion_tokens_details=CompletionTokensDetails(accepted_prediction_tokens=0, audio_tokens=0, reasoning_tokens=0, rejected_prediction_tokens=0), prompt_tokens_details=PromptTokensDetails(audio_tokens=0, cached_tokens=0)))\n",
      "\u001b[1m\u001b[94m \n",
      "[2025-03-13 14:47:34][👍 FLOW METHOD FINISHED: 'REWRITE_QUESTION']: 2025-03-13 14:47:34.325047\u001b[00m\n",
      "\u001b[1m\u001b[94m \n",
      "[2025-03-13 14:47:34][🤖 FLOW METHOD STARTED: 'ANSWER_QUESTION']: 2025-03-13 14:47:34.326133\u001b[00m\n",
      "# Answering question: What insights does Lilian Weng provide regarding the different types of agent memory?\n",
      "\u001b[1m\u001b[94m \n",
      "[2025-03-13 14:47:34][🚀 CREW 'CREW' STARTED, 5C656F1F-F557-4CA6-B26E-A7B125C25B64]: 2025-03-13 14:47:34.326300\u001b[00m\n",
      "\u001b[1m\u001b[94m \n",
      "[2025-03-13 14:47:34][📋 TASK STARTED: ANSWER THE FOLLOWING QUESTION: WHAT INSIGHTS DOES LILIAN WENG PROVIDE REGARDING THE DIFFERENT TYPES OF AGENT MEMORY?]: 2025-03-13 14:47:34.332151\u001b[00m\n",
      "\u001b[1m\u001b[94m \n",
      "[2025-03-13 14:47:34][🤖 AGENT 'YOU ARE A HELPFUL ASSISTANT THAT CAN ANSWER QUESTIONS ABOUT THE WEB.' STARTED TASK]: 2025-03-13 14:47:34.333050\u001b[00m\n",
      "\u001b[1m\u001b[94m \n",
      "[2025-03-13 14:47:34][🤖 LLM CALL STARTED]: 2025-03-13 14:47:34.333209\u001b[00m\n",
      "\u001b[1m\u001b[94m \n",
      "[2025-03-13 14:47:35][✅ LLM CALL COMPLETED]: 2025-03-13 14:47:35.017727\u001b[00m\n",
      "\u001b[1m\u001b[94m \n",
      "[2025-03-13 14:47:35][🤖 TOOL USAGE STARTED: 'SEARCH IN A SPECIFIC WEBSITE']: 2025-03-13 14:47:35.018271\u001b[00m\n",
      "\u001b[1m\u001b[94m \n",
      "[2025-03-13 14:47:35][✅ TOOL USAGE FINISHED: 'SEARCH IN A SPECIFIC WEBSITE']: 2025-03-13 14:47:35.670404\u001b[00m\n",
      "\u001b[1m\u001b[94m \n",
      "[2025-03-13 14:47:35][🤖 LLM CALL STARTED]: 2025-03-13 14:47:35.670587\u001b[00m\n",
      "\u001b[1m\u001b[94m \n",
      "[2025-03-13 14:47:38][✅ LLM CALL COMPLETED]: 2025-03-13 14:47:38.132169\u001b[00m\n",
      "\u001b[1m\u001b[94m \n",
      "[2025-03-13 14:47:38][✅ AGENT 'YOU ARE A HELPFUL ASSISTANT THAT CAN ANSWER QUESTIONS ABOUT THE WEB.' COMPLETED TASK]: 2025-03-13 14:47:38.133085\u001b[00m\n",
      "\u001b[1m\u001b[94m \n",
      "[2025-03-13 14:47:38][✅ TASK COMPLETED: ANSWER THE FOLLOWING QUESTION: WHAT INSIGHTS DOES LILIAN WENG PROVIDE REGARDING THE DIFFERENT TYPES OF AGENT MEMORY?]: 2025-03-13 14:47:38.133296\u001b[00m\n",
      "\u001b[1m\u001b[94m \n",
      "[2025-03-13 14:47:38][✅ CREW 'CREW' COMPLETED, 5C656F1F-F557-4CA6-B26E-A7B125C25B64]: 2025-03-13 14:47:38.136051\u001b[00m\n",
      "\u001b[1m\u001b[94m \n",
      "[2025-03-13 14:47:38][👍 FLOW METHOD FINISHED: 'ANSWER_QUESTION']: 2025-03-13 14:47:38.136240\u001b[00m\n",
      "\u001b[1m\u001b[94m \n",
      "[2025-03-13 14:47:38][👍 FLOW FINISHED: 'QAFLOW', D89FA34D-2656-4770-9164-E447D7CF8F25]: 2025-03-13 14:47:38.136470\u001b[00m\n",
      "==========\n",
      "Lilian Weng provides insights into the different types of agent memory in the context of LLM (large language model) powered autonomous agents. She categorizes memory into three primary types: \n",
      "\n",
      "1. **Short-term memory**: This is equated with in-context learning, where the model utilizes its short-term capabilities for immediate learning and response tasks.\n",
      "\n",
      "2. **Long-term memory**: This type enables the agent to retain and recall information over extended periods. It often involves an external vector store to manage the infinite information retained and facilitate rapid retrieval.\n",
      "\n",
      "Additionally, Weng compares these types to human memory systems, outlining sensory memory, short-term memory (STM), and long-term memory (LTM) with their respective subtypes:\n",
      "\n",
      "- **Sensory Memory**: The initial stage retaining impressions of sensory information like visual and auditory data for a few seconds.\n",
      "  \n",
      "- **Short-Term Memory (STM)**: Holds current awareness necessary for cognitive tasks, capable of managing about 7 items for 20-30 seconds.\n",
      "\n",
      "- **Long-Term Memory (LTM)**: Capable of storing information for days to decades with essentially unlimited capacity, further divided into:\n",
      "   - **Explicit/Declarative Memory**: Conscious recall of facts and events.\n",
      "   - **Implicit/Procedural Memory**: Unconscious skills and routines performed automatically.\n",
      "\n",
      "Weng also discusses how these memory types can be mapped to agent functionalities and behaviors, indicating their crucial role in enhancing the performance and learning capabilities of autonomous agents.\n"
     ]
    }
   ],
   "source": [
    "result = flow.kickoff()\n",
    "print(\"=\" * 10)\n",
    "print(result)"
   ]
  },
  {
   "cell_type": "code",
   "execution_count": null,
   "metadata": {},
   "outputs": [],
   "source": []
  }
 ],
 "metadata": {
  "kernelspec": {
   "display_name": "venv_agenticai",
   "language": "python",
   "name": "python3"
  },
  "language_info": {
   "codemirror_mode": {
    "name": "ipython",
    "version": 3
   },
   "file_extension": ".py",
   "mimetype": "text/x-python",
   "name": "python",
   "nbconvert_exporter": "python",
   "pygments_lexer": "ipython3",
   "version": "3.11.11"
  }
 },
 "nbformat": 4,
 "nbformat_minor": 4
}
