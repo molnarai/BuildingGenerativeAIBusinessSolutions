{
 "cells": [
  {
   "cell_type": "code",
   "execution_count": null,
   "metadata": {},
   "outputs": [],
   "source": []
  },
  {
   "cell_type": "markdown",
   "metadata": {},
   "source": [
    "# Agentic RAG Example with LangChain, OpenAI, and Chroma\n",
    "\n",
    "Source:\n",
    "\n",
    "Vasilis Kalyvas, The easiest AI agent you will ever create!\n",
    "https://generativeai.pub/a-very-simple-agentic-ai-implementation-28d59afb8096"
   ]
  },
  {
   "cell_type": "markdown",
   "metadata": {},
   "source": [
    "### Process Flow:\n",
    "\n",
    "In any case, the agent is using OpenAI’s API for answering questions:\n",
    "\n",
    "1. The agent gets a question.\n",
    "\n",
    "2. The agent analyzes whether the question is about **data_analysis** or **info_retrieval**.\n",
    "\n",
    "3. If the question is about **info_retrieval**, the agent performs **RAG** retrieving the PDF file from the vector store **(Chroma)** and replies with the information of the machines (mentioned in the PDF).\n",
    "\n",
    "4. If the question is about **data_analysis**, it converts the question into Python code and executes the command on the dataset itself."
   ]
  },
  {
   "cell_type": "code",
   "execution_count": 1,
   "metadata": {},
   "outputs": [],
   "source": [
    "import pandas as pd\n",
    "import openai\n",
    "import os\n",
    "from pprint import pprint\n",
    "\n",
    "from langchain.document_loaders import PyPDFLoader\n",
    "from langchain_openai import OpenAIEmbeddings, ChatOpenAI\n",
    "from langchain.text_splitter import CharacterTextSplitter\n",
    "from langchain.vectorstores import Chroma\n",
    "from langchain.chains import RetrievalQA\n",
    "\n",
    "import warnings\n",
    "warnings.filterwarnings(\"ignore\")\n",
    "\n",
    "# better to set the OpenAI key as environment variable but let's keep it \n",
    "# like this for simplicity reasons\n",
    "openai_api_key = open(\"/Users/mjack6/.secrets/openai_mjack.apikey\", \"r\").read().strip()\n",
    "openai.api_key = openai_api_key"
   ]
  },
  {
   "cell_type": "markdown",
   "metadata": {},
   "source": [
    "### Decision Process\n",
    "\n",
    "Decide if the question is about data_analysis or info_retrieval."
   ]
  },
  {
   "cell_type": "code",
   "execution_count": 2,
   "metadata": {},
   "outputs": [],
   "source": [
    "# function to determine query intent\n",
    "def classify_intent(question):\n",
    "    prompt = f\"Classify the intent of the following question as either \\\n",
    "        'data_analysis' or 'info_retrieval': {question} \\\n",
    "        and reply with only the intent\"\n",
    "                \n",
    "    response = openai.chat.completions.create(\n",
    "        model=\"gpt-4\", \n",
    "        messages=[{\"role\": \"system\", \"content\": \"You are an AI assistant that classifies questions.\"},\n",
    "                  {\"role\": \"user\", \"content\": prompt}]\n",
    "        )\n",
    "    return response.choices[0].message.content"
   ]
  },
  {
   "cell_type": "code",
   "execution_count": 3,
   "metadata": {},
   "outputs": [],
   "source": [
    "# load and process PDF for RAG\n",
    "def load_pdf_for_rag(pdf_path):\n",
    "    loader = PyPDFLoader(pdf_path)\n",
    "    documents = loader.load()\n",
    "    text_splitter = CharacterTextSplitter(chunk_size=500, chunk_overlap=50)\n",
    "    split_docs = text_splitter.split_documents(documents)\n",
    "    embeddings = OpenAIEmbeddings(api_key=openai_api_key)\n",
    "    vectorstore = Chroma.from_documents(split_docs, embeddings)\n",
    "    return vectorstore"
   ]
  },
  {
   "cell_type": "markdown",
   "metadata": {},
   "source": [
    "### Load PDF"
   ]
  },
  {
   "cell_type": "code",
   "execution_count": 4,
   "metadata": {},
   "outputs": [],
   "source": [
    "# the file should exist in the working directory, to create the retriever\n",
    "pdf_path = \"data/sample_machines.pdf\"  # Replace with your PDF path\n",
    "\n",
    "if os.path.exists(pdf_path):\n",
    "    vectorstore = load_pdf_for_rag(pdf_path)\n",
    "    retriever = vectorstore.as_retriever(search_kwargs={\"k\": 1})\n",
    "else:\n",
    "    retriever = None"
   ]
  },
  {
   "cell_type": "markdown",
   "metadata": {},
   "source": [
    "### Define Pandas DataFrame"
   ]
  },
  {
   "cell_type": "code",
   "execution_count": 5,
   "metadata": {},
   "outputs": [],
   "source": [
    "data = {\n",
    "        'timestamp': [\n",
    "            '2024-01-01 00:00:00',\n",
    "            '2024-01-01 01:00:00',\n",
    "            '2024-01-01 02:00:00',\n",
    "            '2024-01-01 03:00:00',\n",
    "            '2024-01-01 04:00:00',\n",
    "            '2024-01-01 05:00:00',\n",
    "            '2024-01-01 06:00:00',\n",
    "            '2024-01-01 07:00:00',\n",
    "            '2024-01-01 08:00:00',\n",
    "            '2024-01-01 09:00:00',\n",
    "            ],\n",
    "        'machine': ['A', 'B', 'C', 'D', 'A', 'B', 'C', 'D', 'A', 'B'],\n",
    "        'bottles_produced': [100, 150, 120, 130, 110, 160, 115, 140, 125, 135],\n",
    "        'operating_state': [\n",
    "            'Running', \n",
    "            'Idle', \n",
    "            'Running', \n",
    "            'Failure',\n",
    "            'Running', \n",
    "            'Idle', \n",
    "            'Running', \n",
    "            'Failure',\n",
    "            'Running', \n",
    "            'Idle', \n",
    "            ],\n",
    "        'failure': [0, 0, 0, 1, 0, 0, 0, 1, 0, 0],\n",
    "        'type_of_failure': [\n",
    "            None, None, None, 'Mechanical',\n",
    "            None, None, None, 'Mechanical',\n",
    "            None, None,\n",
    "            ],\n",
    "    }\n",
    "df = pd.DataFrame.from_dict(data)"
   ]
  },
  {
   "cell_type": "markdown",
   "metadata": {},
   "source": [
    "### Reasoning by Agent"
   ]
  },
  {
   "cell_type": "code",
   "execution_count": 6,
   "metadata": {},
   "outputs": [],
   "source": [
    "# function to handle user questions\n",
    "def process_query(question):\n",
    "    intent = classify_intent(question)\n",
    "    \n",
    "    if intent == \"info_retrieval\":\n",
    "        if retriever:\n",
    "            qa = RetrievalQA.from_chain_type(\n",
    "                    llm=ChatOpenAI(api_key=openai_api_key), \n",
    "                    retriever=retriever)\n",
    "            response = qa.run(question)\n",
    "            return response\n",
    "        else:\n",
    "            return \"Machine information is unavailable.\"\n",
    "        \n",
    "    else:\n",
    "        prompt = f\"Convert the following question into a python \\\n",
    "                    pandas command: {question}. Return only the python code \\\n",
    "                    in your response, without mentioning anything else, \\\n",
    "                    in plain text.\"\n",
    "                    \n",
    "        response = openai.chat.completions.create(\n",
    "            model=\"gpt-4\",\n",
    "            messages=[\n",
    "                {\n",
    "                    \"role\": \"system\", \n",
    "                    \"content\": \"You are an AI assistant \\\n",
    "                        that converts questions into python pandas commands. \\\n",
    "                        You will be asked questions for a dataframe that \\\n",
    "                        contains information about machines in a manufacturing \\\n",
    "                        plant. The dataframe consists of: timestamp, machine, \\\n",
    "                        bottles_produced, operating_state, failure, \\\n",
    "                        type_of_failure. Remember you must return only the \\\n",
    "                        python code.\"\n",
    "                },\n",
    "                {\"role\": \"user\", \"content\": prompt}\n",
    "            ]\n",
    "        )\n",
    "        \n",
    "        code_snippet = response.choices[0].message.content\n",
    "        pprint(f\"This is the Python code snippet that was generated: \\\n",
    "            {code_snippet}\")\n",
    "        print()\n",
    "        \n",
    "        try:\n",
    "            result = eval(code_snippet, {\"df\": df, \"pd\": pd})\n",
    "            return result\n",
    "        except Exception as e:\n",
    "            return f\"Error executing code: {e}\""
   ]
  },
  {
   "cell_type": "markdown",
   "metadata": {},
   "source": [
    "### Execute Example User Queries"
   ]
  },
  {
   "cell_type": "code",
   "execution_count": 7,
   "metadata": {},
   "outputs": [],
   "source": [
    "# # example user queries\n",
    "# queries = [\n",
    "#     \"How many bottles were produced by (machine) A in total?\",\n",
    "#     \"What machines in the dataset had failures?\",\n",
    "#     \"Tell me more about machine B.\",\n",
    "#     \"What is machine D doing? I see lots of failures.\"\n",
    "# ]"
   ]
  },
  {
   "cell_type": "code",
   "execution_count": 8,
   "metadata": {},
   "outputs": [],
   "source": [
    "# example user queries\n",
    "queries = [\n",
    "    \"How many bottles were produced by (machine) A in total?\",\n",
    "    \"What machines in the dataset had failures?\",\n",
    "    \"Tell me more about machine B.\",\n",
    "    \"What is machine D doing? I see lots of failures.\"\n",
    "]"
   ]
  },
  {
   "cell_type": "code",
   "execution_count": 11,
   "metadata": {},
   "outputs": [
    {
     "name": "stdout",
     "output_type": "stream",
     "text": [
      "('This is the Python code snippet that was generated:             '\n",
      " \"df[df['machine'] == 'A']['bottles_produced'].sum()\")\n",
      "\n",
      "335\n",
      "\n",
      "('This is the Python code snippet that was generated:             '\n",
      " \"df[df['failure'] == True]['machine'].unique()\")\n",
      "\n",
      "['D']\n",
      "\n",
      "Machine B is a Labeling Machine responsible for applying labels to bottles as they move along the conveyor. It operates at a speed of 450 bottles per minute. Common operating states for Machine B include Running, Idle, and Adjustment. Typical failures that may occur with Machine B are misaligned labels and adhesive malfunctions.\n",
      "\n",
      "Machine D, the Quality Control Scanner, is responsible for inspecting bottles for defects using an AI-powered vision system. It identifies issues such as incorrect labeling, improper sealing, and empty bottles. The failures mentioned in the context include sensor malfunctions and misclassification errors.\n",
      "\n"
     ]
    }
   ],
   "source": [
    "for query in queries:\n",
    "    result = process_query(query)\n",
    "    print(result)\n",
    "    print()"
   ]
  },
  {
   "cell_type": "code",
   "execution_count": 12,
   "metadata": {},
   "outputs": [
    {
     "name": "stdout",
     "output_type": "stream",
     "text": [
      "('This is the Python code snippet that was generated:             '\n",
      " \"df[df['machine'] == 'A']['bottles_produced'].sum()\")\n",
      "\n",
      "np.int64(335)\n",
      "\n",
      "('This is the Python code snippet that was generated:             '\n",
      " \"df[df['failure'] == True]['machine'].unique()\")\n",
      "\n",
      "array(['D'], dtype=object)\n",
      "\n",
      "('Machine B is a Labeling Machine that applies labels to bottles as they move '\n",
      " 'along the conveyor. It operates at a speed of 450 bottles per minute. The '\n",
      " 'typical operating states of Machine B include Running, Idle, and Adjustment. '\n",
      " 'Common failures that can occur with Machine B are misaligned labels and '\n",
      " 'adhesive malfunctions.')\n",
      "\n",
      "('Machine D, the Quality Control Scanner, is responsible for inspecting '\n",
      " 'bottles for defects using an AI-powered vision system. It identifies issues '\n",
      " 'such as incorrect labeling, improper sealing, and empty bottles. However, it '\n",
      " 'is experiencing failures such as sensor malfunctions and misclassification '\n",
      " 'errors.')\n",
      "\n"
     ]
    }
   ],
   "source": [
    "for query in queries:\n",
    "    result = process_query(query)\n",
    "    pprint(result)\n",
    "    print()"
   ]
  },
  {
   "cell_type": "markdown",
   "metadata": {},
   "source": [
    "### Conclusion\n",
    "\n",
    "The agent identified the first 2 questions had to do with calculations, so it created corresponding code and executed it nicely. It answered very simply, just with the answer, but we can configure it more if we want.\n",
    "\n",
    "The other 2 questions had to do with machines’ information, so it retrieved the PDF file and answered accordingly.\n",
    "\n",
    "The agent correctly follows the rule of: **Plan ➡ Decision ➡ Action**."
   ]
  },
  {
   "cell_type": "code",
   "execution_count": null,
   "metadata": {},
   "outputs": [],
   "source": []
  },
  {
   "cell_type": "code",
   "execution_count": null,
   "metadata": {},
   "outputs": [],
   "source": []
  }
 ],
 "metadata": {
  "kernelspec": {
   "display_name": "venv_agenticai",
   "language": "python",
   "name": "python3"
  },
  "language_info": {
   "codemirror_mode": {
    "name": "ipython",
    "version": 3
   },
   "file_extension": ".py",
   "mimetype": "text/x-python",
   "name": "python",
   "nbconvert_exporter": "python",
   "pygments_lexer": "ipython3",
   "version": "3.11.11"
  }
 },
 "nbformat": 4,
 "nbformat_minor": 2
}
