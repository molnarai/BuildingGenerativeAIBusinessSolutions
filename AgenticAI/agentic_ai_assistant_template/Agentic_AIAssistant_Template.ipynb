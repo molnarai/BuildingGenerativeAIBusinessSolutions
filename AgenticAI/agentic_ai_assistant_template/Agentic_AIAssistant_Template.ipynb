{
 "cells": [
  {
   "cell_type": "code",
   "execution_count": null,
   "metadata": {},
   "outputs": [],
   "source": []
  },
  {
   "cell_type": "markdown",
   "metadata": {},
   "source": [
    "# Building a Single AI Agent in Python: A Step-by-Step Guide\n",
    "\n",
    "Source:\n",
    "\n",
    "Lekha Priya, **Building a Single AI Agent in Python: A Step-by-Step Guide**, https://lekha-bhan88.medium.com/building-a-single-ai-agent-in-python-a-step-by-step-guide-a7af9dd415e1"
   ]
  },
  {
   "cell_type": "markdown",
   "metadata": {},
   "source": [
    "Building an AI agent involves six essential steps: \n",
    "\n",
    "- Defining its purpose\n",
    "\n",
    "- Setting up the environment\n",
    "\n",
    "- Structuring its behavior\n",
    "\n",
    "- Implementing core logic\n",
    "\n",
    "- Adding interactivity\n",
    "\n",
    "- Testing iteratively"
   ]
  },
  {
   "cell_type": "code",
   "execution_count": 2,
   "metadata": {},
   "outputs": [
    {
     "name": "stdout",
     "output_type": "stream",
     "text": [
      "Environment setup complete! All dependencies are installed and ready to use.\n"
     ]
    }
   ],
   "source": [
    "# Importing required libraries\n",
    "import numpy as np  # For numerical operations\n",
    "import pandas as pd  # For data manipulation\n",
    "import openai  # For AI model interactions\n",
    "import requests  # For making API requests\n",
    "from transformers import pipeline  # For NLP model processing\n",
    "\n",
    "print(\"Environment setup complete! All dependencies are installed and ready to use.\")"
   ]
  },
  {
   "cell_type": "markdown",
   "metadata": {},
   "source": [
    "### Define Agent class that represents an AI assistant"
   ]
  },
  {
   "cell_type": "code",
   "execution_count": 3,
   "metadata": {},
   "outputs": [
    {
     "name": "stdout",
     "output_type": "stream",
     "text": [
      "Agent 'ChatBot' is designed for answering user queries.\n"
     ]
    }
   ],
   "source": [
    "# Defining an Agent class that represents an AI assistant\n",
    "class Agent:\n",
    "    def __init__(self, name, purpose):\n",
    "        self.name = name  # Assigning the agent's name\n",
    "        self.purpose = purpose  # Defining the agent's purpose\n",
    "\n",
    "    def describe(self):\n",
    "        # Returning a description of the agent\n",
    "        return f\"Agent '{self.name}' is designed for {self.purpose}.\"\n",
    "\n",
    "# Example: Creating an instance of the Agent class\n",
    "agent = Agent(\"ChatBot\", \"answering user queries\")\n",
    "print(agent.describe())"
   ]
  },
  {
   "cell_type": "markdown",
   "metadata": {},
   "source": [
    "### Create ChatAgent class to manage AI interactions"
   ]
  },
  {
   "cell_type": "code",
   "execution_count": 4,
   "metadata": {},
   "outputs": [
    {
     "name": "stdout",
     "output_type": "stream",
     "text": [
      "Hello! I am AI Helper, your AI assistant. How can I help you today?\n"
     ]
    }
   ],
   "source": [
    "# Creating a ChatAgent class to manage AI interactions\n",
    "class ChatAgent:\n",
    "    def __init__(self, name):\n",
    "        self.name = name  # Assigning the agent's name\n",
    "\n",
    "    def greet(self):\n",
    "        # Defining a method to return a greeting message\n",
    "        return f\"Hello! I am {self.name}, your AI assistant. How can I help you today?\"\n",
    "\n",
    "# Example: Creating an instance of the ChatAgent class\n",
    "agent = ChatAgent(\"AI Helper\")\n",
    "print(agent.greet())"
   ]
  },
  {
   "cell_type": "markdown",
   "metadata": {},
   "source": [
    "### Implement Core Logic"
   ]
  },
  {
   "cell_type": "code",
   "execution_count": 5,
   "metadata": {},
   "outputs": [
    {
     "name": "stdout",
     "output_type": "stream",
     "text": [
      "Hi there! How can I assist you?\n"
     ]
    }
   ],
   "source": [
    "# Defining a function to process user input and return an appropriate response\n",
    "def process_input(user_input):\n",
    "    responses = {\n",
    "        \"hello\": \"Hi there! How can I assist you?\",\n",
    "        \"bye\": \"Goodbye! Have a great day!\",\n",
    "        \"help\": \"I can help you with general queries. Ask me anything!\"\n",
    "    }\n",
    "    # Returning a response based on user input\n",
    "    return responses.get(user_input.lower(), \"I'm not sure about that, but I'm learning!\")\n",
    "\n",
    "# Example: Testing the process_input function\n",
    "print(process_input(\"hello\"))"
   ]
  },
  {
   "cell_type": "markdown",
   "metadata": {},
   "source": [
    "### Add Interaction Logic"
   ]
  },
  {
   "cell_type": "code",
   "execution_count": 6,
   "metadata": {},
   "outputs": [],
   "source": [
    "# Defining a function to simulate a chatbot interaction\n",
    "def chat():\n",
    "    print(\"Chatbot: Hello! Type 'exit' to end the chat.\")\n",
    "    while True:\n",
    "        user_input = input(\"You: \")  # Taking user input\n",
    "        if user_input.lower() == \"exit\":  # Checking if the user wants to exit\n",
    "            print(\"Chatbot: Goodbye!\")\n",
    "            break\n",
    "        print(\"Chatbot:\", process_input(user_input))  # Processing and returning response"
   ]
  },
  {
   "cell_type": "code",
   "execution_count": 7,
   "metadata": {},
   "outputs": [],
   "source": [
    "# # Example: Running the chatbot interaction\n",
    "# chat()  # Uncomment to test"
   ]
  },
  {
   "cell_type": "markdown",
   "metadata": {},
   "source": [
    "### Test and Iterate"
   ]
  },
  {
   "cell_type": "code",
   "execution_count": 8,
   "metadata": {},
   "outputs": [
    {
     "name": "stdout",
     "output_type": "stream",
     "text": [
      "User: hello\n",
      "Agent: Hi there! How can I assist you?\n",
      "\n",
      "User: help\n",
      "Agent: I can help you with general queries. Ask me anything!\n",
      "\n",
      "User: bye\n",
      "Agent: Goodbye! Have a great day!\n",
      "\n",
      "User: unknown\n",
      "Agent: I'm not sure about that, but I'm learning!\n",
      "\n"
     ]
    }
   ],
   "source": [
    "# Defining a function to test the agent's response accuracy\n",
    "def test_agent():\n",
    "    test_cases = [\"hello\", \"help\", \"bye\", \"unknown\"]  # Sample inputs\n",
    "    for case in test_cases:\n",
    "        print(f\"User: {case}\")\n",
    "        print(f\"Agent: {process_input(case)}\\n\")\n",
    "\n",
    "# Running the test function\n",
    "test_agent()"
   ]
  },
  {
   "cell_type": "code",
   "execution_count": null,
   "metadata": {},
   "outputs": [],
   "source": []
  },
  {
   "cell_type": "code",
   "execution_count": null,
   "metadata": {},
   "outputs": [],
   "source": []
  },
  {
   "cell_type": "code",
   "execution_count": null,
   "metadata": {},
   "outputs": [],
   "source": []
  }
 ],
 "metadata": {
  "kernelspec": {
   "display_name": "venv_agenticai",
   "language": "python",
   "name": "python3"
  },
  "language_info": {
   "codemirror_mode": {
    "name": "ipython",
    "version": 3
   },
   "file_extension": ".py",
   "mimetype": "text/x-python",
   "name": "python",
   "nbconvert_exporter": "python",
   "pygments_lexer": "ipython3",
   "version": "3.11.11"
  }
 },
 "nbformat": 4,
 "nbformat_minor": 2
}
