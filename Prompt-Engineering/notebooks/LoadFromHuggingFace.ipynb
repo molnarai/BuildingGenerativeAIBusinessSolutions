{
 "cells": [
  {
   "cell_type": "markdown",
   "id": "a1b2f8d0",
   "metadata": {},
   "source": [
    "# Hugging Face Example\n",
    "\n",
    "This example demonstrates how to load models from Hugging Face and run the inference model in your program.\n",
    "\n",
    "**Make sure to terminate your notebook kernel after you're done!**\n",
    "\n",
    "A couple of steps are requires prior to running this exmaple:\n",
    "\n",
    "1. You need to use a computer with an accelerator chip like NVidia GPU, Apple Silicon, etc.\n",
    "2. You need to create an account on Huggin Face https://huggingface.co/ and create an Access Token https://huggingface.co/settings/tokens.\n",
    "3. Some models may require you to apply for acccess and acknowledge end-user agreements. Most likely you see error messages when you try to download a particular model. Those error message include instructions and links to follow up. Approval of accessing models usually happens within a few hours.\n",
    "4. This examples uses PyTorch, make sure to install the version that supports your hardware.\n",
    "5. Additional packages that you need to install:\n",
    "```\n",
    "    transformers\n",
    "    huggingface_hub\n",
    "    ipywidgets\n",
    "    accelerate>=0.26.0\n",
    "```\n"
   ]
  },
  {
   "cell_type": "code",
   "execution_count": 3,
   "id": "6686900d",
   "metadata": {},
   "outputs": [],
   "source": [
    "import torch\n",
    "from transformers import AutoModelForCausalLM, AutoTokenizer"
   ]
  },
  {
   "cell_type": "markdown",
   "id": "e026831d",
   "metadata": {},
   "source": [
    "## Check Accelerator Hardware\n",
    "Check which devices are available."
   ]
  },
  {
   "cell_type": "code",
   "execution_count": 4,
   "id": "6de48767",
   "metadata": {},
   "outputs": [
    {
     "name": "stdout",
     "output_type": "stream",
     "text": [
      "Available GPUs: ['NVIDIA L40']\n",
      "Using CUDA: NVIDIA L40\n"
     ]
    }
   ],
   "source": [
    "if torch.backends.mps.is_available():\n",
    "    device = torch.device(\"mps\")\n",
    "    print(f\"Using Apple Metal\")\n",
    "elif torch.cuda.is_available():\n",
    "    device_count = torch.cuda.device_count()\n",
    "    devices = [torch.cuda.get_device_name(i) for i in range(device_count)]\n",
    "    print(f\"Available GPUs: {devices}\")\n",
    "    device = devices[-1]\n",
    "    print(f\"Using CUDA: {device}\")\n",
    "else:\n",
    "    torch.device(\"cpu\")\n",
    "    print(f\"Using CPU\")"
   ]
  },
  {
   "cell_type": "markdown",
   "id": "fdfede1b",
   "metadata": {},
   "source": [
    "Before downloading a model, you have to provide an access key to Huggingface.\n",
    "Go to ... and create a key. Copy the key into a textfile that your application can load."
   ]
  },
  {
   "cell_type": "code",
   "execution_count": 5,
   "id": "70b4e665",
   "metadata": {},
   "outputs": [],
   "source": [
    "from huggingface_hub import login\n",
    "token = open(\".hugging_face_token.txt\", \"r\").read().strip()\n",
    "login(token)"
   ]
  },
  {
   "cell_type": "code",
   "execution_count": null,
   "id": "b28ea639",
   "metadata": {},
   "outputs": [],
   "source": []
  },
  {
   "cell_type": "markdown",
   "id": "a35c51bc",
   "metadata": {},
   "source": [
    "## Where to store the downloaded model parameter\n",
    "Set the path where you want to keep the model parameter. These files take up a couple of Gigabytes."
   ]
  },
  {
   "cell_type": "code",
   "execution_count": 6,
   "id": "b36c22e8",
   "metadata": {},
   "outputs": [],
   "source": [
    "! mkdir -p /staging/huggin_face_cache\n",
    "CACHE_DIR = \"/staging/huggin_face_cache\""
   ]
  },
  {
   "cell_type": "markdown",
   "id": "e0802370",
   "metadata": {},
   "source": [
    "## Load Model\n",
    "\n",
    "Download model parameter from Huggin Face might take a while (could be 30 minutes to an hour). Once it's on your file system this goes pretty fast.\n",
    "\n",
    "Look out for error messages: they include links to request access if needed."
   ]
  },
  {
   "cell_type": "code",
   "execution_count": 7,
   "id": "7e0228f2",
   "metadata": {},
   "outputs": [
    {
     "data": {
      "application/vnd.jupyter.widget-view+json": {
       "model_id": "2921fe9a726942939e613f3e61295ea6",
       "version_major": 2,
       "version_minor": 0
      },
      "text/plain": [
       "Loading checkpoint shards:   0%|          | 0/2 [00:00<?, ?it/s]"
      ]
     },
     "metadata": {},
     "output_type": "display_data"
    }
   ],
   "source": [
    "# model_name = \"meta-llama/Llama-3.2-3B-Instruct\"  # Replace with the desired model name\n",
    "model_name = \"meta-llama/Llama-2-7b-chat-hf\"  # Replace with the desired model name\"  # Replace with the desired model name\n",
    "tokenizer = AutoTokenizer.from_pretrained(model_name, cache_dir=CACHE_DIR)\n",
    "model = AutoModelForCausalLM.from_pretrained(\n",
    "    model_name, cache_dir=CACHE_DIR, torch_dtype=torch.float16,\n",
    "    device_map=\"auto\")"
   ]
  },
  {
   "cell_type": "markdown",
   "id": "1f8b31b8",
   "metadata": {},
   "source": [
    "## Tokenize Input Text\n",
    "\n",
    "In the first step you convert your input text into tokens. "
   ]
  },
  {
   "cell_type": "code",
   "execution_count": 12,
   "id": "8b42bf7f",
   "metadata": {},
   "outputs": [],
   "source": [
    "input_text = \"You are What is the capital of France?\"\n",
    "inputs = tokenizer(input_text, return_tensors=\"pt\").to(model.device)"
   ]
  },
  {
   "cell_type": "code",
   "execution_count": 13,
   "id": "51938d20",
   "metadata": {},
   "outputs": [
    {
     "name": "stdout",
     "output_type": "stream",
     "text": [
      "{'input_ids': tensor([[    1,   887,   526,  1724,   338,   278,  7483,   310,  3444, 29973]],\n",
      "       device='cuda:0'), 'attention_mask': tensor([[1, 1, 1, 1, 1, 1, 1, 1, 1, 1]], device='cuda:0')}\n"
     ]
    }
   ],
   "source": [
    "print(inputs)"
   ]
  },
  {
   "cell_type": "markdown",
   "id": "afa25900",
   "metadata": {},
   "source": [
    "## Generate Text\n",
    "\n",
    "Then use the model to generate text. There are several attributes to control the LLM inference: https://huggingface.co/docs/transformers/en/main_classes/text_generation"
   ]
  },
  {
   "cell_type": "code",
   "execution_count": 15,
   "id": "79383f0e",
   "metadata": {},
   "outputs": [
    {
     "name": "stdout",
     "output_type": "stream",
     "text": [
      "tensor([[    1,   887,   526,  1724,   338,   278,  7483,   310,  3444, 29973,\n",
      "            13,    13,  3492,   526,  1959, 29991,   450,  7483,   310,  3444,\n",
      "           338,  3681, 29889,  5674,  2309, 29991,    13,    13, 12024, 29915,\n",
      "         29879,  1018,  1790,  1139, 29901,    13,    13,  5618,   338,   278,\n",
      "         10150, 15754,   297,  1749, 21635,  1788, 29973,     2]],\n",
      "       device='cuda:0')\n"
     ]
    }
   ],
   "source": [
    "outputs = model.generate(**inputs, max_new_tokens=100,\n",
    "    return_dict_in_generate=False,\n",
    "    output_scores=False\n",
    ")\n",
    "print(outputs)"
   ]
  },
  {
   "cell_type": "markdown",
   "id": "7931b33a",
   "metadata": {},
   "source": [
    "**Note:** If you tell the model to also return Logits and other values, your output might have a different format. You need to adjust your code accordingly."
   ]
  },
  {
   "cell_type": "markdown",
   "id": "1c3c32e4",
   "metadata": {},
   "source": [
    "## Decode and print the output\n",
    "The model output is a sequence of tokens. You need to use the Tokenizer to decode them to readable text."
   ]
  },
  {
   "cell_type": "code",
   "execution_count": 16,
   "id": "7b54de17",
   "metadata": {},
   "outputs": [
    {
     "name": "stdout",
     "output_type": "stream",
     "text": [
      "You are What is the capital of France?\n",
      "\n",
      "You are correct! The capital of France is Paris. Well done!\n",
      "\n",
      "Let's try another question:\n",
      "\n",
      "What is the largest planet in our solar system?\n"
     ]
    }
   ],
   "source": [
    "response = tokenizer.decode(outputs[0], skip_special_tokens=True)\n",
    "print(response)"
   ]
  },
  {
   "cell_type": "markdown",
   "id": "fb618078",
   "metadata": {},
   "source": [
    "## Create Helper Functions\n",
    "\n",
    "You may create some functions for your own use. Like the one below:"
   ]
  },
  {
   "cell_type": "code",
   "execution_count": 27,
   "id": "959085c4",
   "metadata": {},
   "outputs": [],
   "source": [
    "import datetime\n",
    "T_now = datetime.datetime.now\n",
    "\n",
    "def llm(input_text: str, max_new_tokens: int = 1000) -> str:\n",
    "    T_0 = T_now()\n",
    "    inputs = tokenizer(input_text, return_tensors=\"pt\").to(model.device)\n",
    "    num_input = len(inputs.input_ids[0])\n",
    "    print(f\"Number of input tokens: {num_input:,}\")\n",
    "    outputs = model.generate(**inputs, max_new_tokens=max_new_tokens,\n",
    "        return_dict_in_generate=False,\n",
    "        output_scores=False\n",
    "    )\n",
    "    num_output = len(outputs[0])\n",
    "    print(f\"Number of output tokens: {num_output:}\")\n",
    "    response = tokenizer.decode(outputs[0][num_input:num_output+1], skip_special_tokens=True)\n",
    "    print(f\"Elapsed time: {T_now()-T_0}\")\n",
    "    return response\n",
    "    "
   ]
  },
  {
   "cell_type": "code",
   "execution_count": 64,
   "id": "9d13eb38",
   "metadata": {},
   "outputs": [
    {
     "name": "stdout",
     "output_type": "stream",
     "text": [
      "Number of input tokens: 79\n",
      "Number of output tokens: 687\n",
      "Elapsed time: 0:00:14.078426\n",
      "\n",
      "1. Eiffel Tower | 7th | The most iconic landmark in Paris, offers panoramic views of the city | 7 million.\n",
      "2. Louvre Museum | 1st | Home to Mona Lisa and thousands of other works of art | 8.5 million.\n",
      "3. Notre Dame Cathedral | 4th | One of the most beautiful cathedrals in the world, famous for its Gothic architecture | 1 million.\n",
      "4. Arc de Triomphe | 8th | Tall monument honoring the soldiers who fought and died for France | 7 million.\n",
      "5. Champs-Elysées | 8th | Famous avenue lined with cafes, shops, and theaters | 3 million.\n",
      "6. Montmartre | 18th | Historic neighborhood known for its bohemian vibe, street artists, and stunning views | 2 million.\n",
      "7. Musée d'Orsay | 7th | Houses an impressive collection of Impressionist and Post-Impressionist art | 3 million.\n",
      "8. Sainte-Chapelle | 1st | Known for its stunning stained glass windows and Gothic architecture | 1 million.\n",
      "9. Palais Garnier | 9th | Famous opera house with opulent architecture and world-class performances | 1.5 million.\n",
      "10. Musée Grévin | 8th | Wax museum featuring lifelike replicas of famous French and international figures | 1.5 million.\n",
      "11. Pont des Arts | 5th | Popular pedestrian bridge with stunning views of the Seine River | 1 million.\n",
      "12. Luxembourg Gardens | 6th | Beautiful green space with fountains, statues, and stunning views | 1 million.\n",
      "13. Sainte-Marie de la Mar | 4th | Historic church with beautiful stained glass windows and intricate stone carvings | 500,000.\n",
      "14. Musée Carnavalet | 3rd | Museum dedicated to the history of Paris | 500,000.\n",
      "15. Picasso Museum | 3rd | Houses an extensive collection of Picasso's work | 300,000.\n",
      "16. Cimetière du Montparnasse | 6th | Famous cemetery where many famous artists and intellectuals are buried | 200,000.\n",
      "17. Musée de Montmartre | 18th | Museum dedicated to the history of the Montmartre neighborhood | 100,000.\n",
      "\n",
      "Note: The number of annual visitors is approximate and based on data from 2019.\n"
     ]
    }
   ],
   "source": [
    "txt = \"\"\"\n",
    "Make a list of 17 tourist attractions in Paris, order them by their popularity with the most popular first.\n",
    "For each attaction state the Name, Part of the city, short description, and number of annual visitors.\n",
    "Format the output as PSV with fields \"Name\" | \"Location\" | \"Description\" | \"Visitors\".\n",
    "\"\"\"\n",
    "\n",
    "data = llm(txt, 10000)\n",
    "print(data[:2000]) ### limit output ... sometime there's clutter at the end..."
   ]
  },
  {
   "cell_type": "markdown",
   "id": "a5009118",
   "metadata": {},
   "source": [
    "## Process LLM output to structured data\n",
    "\n",
    "You can use LLMs to produce structured data like this table of popular attractions in Paris. However, LLMs may not always produce perfectly formatted output text. Some text processing to cleanup the output might be required."
   ]
  },
  {
   "cell_type": "code",
   "execution_count": 59,
   "id": "88ffabe2",
   "metadata": {},
   "outputs": [],
   "source": [
    "import pandas as pd\n",
    "from io import StringIO"
   ]
  },
  {
   "cell_type": "markdown",
   "id": "1b17584e",
   "metadata": {},
   "source": [
    "Let's split the output text into lines, and then split each line by the \"|\" (pipe symbol) "
   ]
  },
  {
   "cell_type": "code",
   "execution_count": 68,
   "id": "fd9bf4f6",
   "metadata": {},
   "outputs": [
    {
     "name": "stdout",
     "output_type": "stream",
     "text": [
      "[[''], ['1. Eiffel Tower', '7th', 'The most iconic landmark in Paris, offers panoramic views of the city', '7 million.'], ['2. Louvre Museum', '1st', 'Home to Mona Lisa and thousands of other works of art', '8.5 million.'], ['3. Notre Dame Cathedral', '4th', 'One of the most beautiful cathedrals in the world, famous for its Gothic architecture', '1 million.'], ['4. Arc de Triomphe', '8th', 'Tall monument honoring the soldiers who fought and died for France', '7 million.'], ['5. Champs-Elysées', '8th', 'Famous avenue lined with cafes, shops, and theaters', '3 million.'], ['6. Montmartre', '18th', 'Historic neighborhood known for its bohemian vibe, street artists, and stunning views', '2 million.'], [\"7. Musée d'Orsay\", '7th', 'Houses an impressive collection of Impressionist and Post-Impressionist art', '3 million.'], ['8. Sainte-Chapelle', '1st', 'Known for its stunning stained glass windows and Gothic architecture', '1 million.'], ['9. Palais Garnier', '9th', 'Famous opera house with opulent architecture and world-class performances', '1.5 million.'], ['10. Musée Grévin', '8th', 'Wax museum featuring lifelike replicas of famous French and international figures', '1.5 million.'], ['11. Pont des Arts', '5th', 'Popular pedestrian bridge with stunning views of the Seine River', '1 million.'], ['12. Luxembourg Gardens', '6th', 'Beautiful green space with fountains, statues, and stunning views', '1 million.'], ['13. Sainte-Marie de la Mar', '4th', 'Historic church with beautiful stained glass windows and intricate stone carvings', '500,000.'], ['14. Musée Carnavalet', '3rd', 'Museum dedicated to the history of Paris', '500,000.'], ['15. Picasso Museum', '3rd', \"Houses an extensive collection of Picasso's work\", '300,000.'], ['16. Cimetière du Montparnasse', '6th', 'Famous cemetery where many famous artists and intellectuals are buried', '200,000.'], ['17. Musée de Montmartre', '18th', 'Museum dedicated to the history of the Montmartre neighborhood', '100,000.'], [''], ['Note: The number of annual visitors is approximate and based on data from 2019.']]\n"
     ]
    }
   ],
   "source": [
    "raw_dat = [ list(map(lambda s: str(s).strip(), line.split('|'))) for line in data.split('\\n') ]\n",
    "print(raw_dat[:20])"
   ]
  },
  {
   "cell_type": "markdown",
   "id": "9525ee7a",
   "metadata": {},
   "source": [
    "As you can see there are some blank lines. We can filter those out and then use Pandas to convert the text into a DataFrame"
   ]
  },
  {
   "cell_type": "code",
   "execution_count": 69,
   "id": "c93832bc",
   "metadata": {},
   "outputs": [
    {
     "data": {
      "text/plain": [
       "[['1. Eiffel Tower',\n",
       "  '7th',\n",
       "  'The most iconic landmark in Paris, offers panoramic views of the city',\n",
       "  '7 million.'],\n",
       " ['2. Louvre Museum',\n",
       "  '1st',\n",
       "  'Home to Mona Lisa and thousands of other works of art',\n",
       "  '8.5 million.'],\n",
       " ['3. Notre Dame Cathedral',\n",
       "  '4th',\n",
       "  'One of the most beautiful cathedrals in the world, famous for its Gothic architecture',\n",
       "  '1 million.'],\n",
       " ['4. Arc de Triomphe',\n",
       "  '8th',\n",
       "  'Tall monument honoring the soldiers who fought and died for France',\n",
       "  '7 million.'],\n",
       " ['5. Champs-Elysées',\n",
       "  '8th',\n",
       "  'Famous avenue lined with cafes, shops, and theaters',\n",
       "  '3 million.']]"
      ]
     },
     "execution_count": 69,
     "metadata": {},
     "output_type": "execute_result"
    }
   ],
   "source": [
    "# raw_dat = [ list(map(lambda s: str(s).strip(), line.split('|'))) for line in data.split('\\n') ]\n",
    "filt_dat = list(filter(lambda lst: len(lst)==4, raw_dat))\n",
    "filt_dat[:5]"
   ]
  },
  {
   "cell_type": "code",
   "execution_count": 72,
   "id": "5f4df8eb",
   "metadata": {},
   "outputs": [
    {
     "name": "stdout",
     "output_type": "stream",
     "text": [
      "Number of rows: 17\n"
     ]
    },
    {
     "data": {
      "text/html": [
       "<div>\n",
       "<style scoped>\n",
       "    .dataframe tbody tr th:only-of-type {\n",
       "        vertical-align: middle;\n",
       "    }\n",
       "\n",
       "    .dataframe tbody tr th {\n",
       "        vertical-align: top;\n",
       "    }\n",
       "\n",
       "    .dataframe thead th {\n",
       "        text-align: right;\n",
       "    }\n",
       "</style>\n",
       "<table border=\"1\" class=\"dataframe\">\n",
       "  <thead>\n",
       "    <tr style=\"text-align: right;\">\n",
       "      <th></th>\n",
       "      <th>Name</th>\n",
       "      <th>Location</th>\n",
       "      <th>Description</th>\n",
       "      <th>Visitors</th>\n",
       "    </tr>\n",
       "  </thead>\n",
       "  <tbody>\n",
       "    <tr>\n",
       "      <th>0</th>\n",
       "      <td>1. Eiffel Tower</td>\n",
       "      <td>7th</td>\n",
       "      <td>The most iconic landmark in Paris, offers pano...</td>\n",
       "      <td>7 million.</td>\n",
       "    </tr>\n",
       "    <tr>\n",
       "      <th>1</th>\n",
       "      <td>2. Louvre Museum</td>\n",
       "      <td>1st</td>\n",
       "      <td>Home to Mona Lisa and thousands of other works...</td>\n",
       "      <td>8.5 million.</td>\n",
       "    </tr>\n",
       "    <tr>\n",
       "      <th>2</th>\n",
       "      <td>3. Notre Dame Cathedral</td>\n",
       "      <td>4th</td>\n",
       "      <td>One of the most beautiful cathedrals in the wo...</td>\n",
       "      <td>1 million.</td>\n",
       "    </tr>\n",
       "    <tr>\n",
       "      <th>3</th>\n",
       "      <td>4. Arc de Triomphe</td>\n",
       "      <td>8th</td>\n",
       "      <td>Tall monument honoring the soldiers who fought...</td>\n",
       "      <td>7 million.</td>\n",
       "    </tr>\n",
       "    <tr>\n",
       "      <th>4</th>\n",
       "      <td>5. Champs-Elysées</td>\n",
       "      <td>8th</td>\n",
       "      <td>Famous avenue lined with cafes, shops, and the...</td>\n",
       "      <td>3 million.</td>\n",
       "    </tr>\n",
       "    <tr>\n",
       "      <th>5</th>\n",
       "      <td>6. Montmartre</td>\n",
       "      <td>18th</td>\n",
       "      <td>Historic neighborhood known for its bohemian v...</td>\n",
       "      <td>2 million.</td>\n",
       "    </tr>\n",
       "    <tr>\n",
       "      <th>6</th>\n",
       "      <td>7. Musée d'Orsay</td>\n",
       "      <td>7th</td>\n",
       "      <td>Houses an impressive collection of Impressioni...</td>\n",
       "      <td>3 million.</td>\n",
       "    </tr>\n",
       "    <tr>\n",
       "      <th>7</th>\n",
       "      <td>8. Sainte-Chapelle</td>\n",
       "      <td>1st</td>\n",
       "      <td>Known for its stunning stained glass windows a...</td>\n",
       "      <td>1 million.</td>\n",
       "    </tr>\n",
       "    <tr>\n",
       "      <th>8</th>\n",
       "      <td>9. Palais Garnier</td>\n",
       "      <td>9th</td>\n",
       "      <td>Famous opera house with opulent architecture a...</td>\n",
       "      <td>1.5 million.</td>\n",
       "    </tr>\n",
       "    <tr>\n",
       "      <th>9</th>\n",
       "      <td>10. Musée Grévin</td>\n",
       "      <td>8th</td>\n",
       "      <td>Wax museum featuring lifelike replicas of famo...</td>\n",
       "      <td>1.5 million.</td>\n",
       "    </tr>\n",
       "    <tr>\n",
       "      <th>10</th>\n",
       "      <td>11. Pont des Arts</td>\n",
       "      <td>5th</td>\n",
       "      <td>Popular pedestrian bridge with stunning views ...</td>\n",
       "      <td>1 million.</td>\n",
       "    </tr>\n",
       "    <tr>\n",
       "      <th>11</th>\n",
       "      <td>12. Luxembourg Gardens</td>\n",
       "      <td>6th</td>\n",
       "      <td>Beautiful green space with fountains, statues,...</td>\n",
       "      <td>1 million.</td>\n",
       "    </tr>\n",
       "    <tr>\n",
       "      <th>12</th>\n",
       "      <td>13. Sainte-Marie de la Mar</td>\n",
       "      <td>4th</td>\n",
       "      <td>Historic church with beautiful stained glass w...</td>\n",
       "      <td>500,000.</td>\n",
       "    </tr>\n",
       "    <tr>\n",
       "      <th>13</th>\n",
       "      <td>14. Musée Carnavalet</td>\n",
       "      <td>3rd</td>\n",
       "      <td>Museum dedicated to the history of Paris</td>\n",
       "      <td>500,000.</td>\n",
       "    </tr>\n",
       "    <tr>\n",
       "      <th>14</th>\n",
       "      <td>15. Picasso Museum</td>\n",
       "      <td>3rd</td>\n",
       "      <td>Houses an extensive collection of Picasso's work</td>\n",
       "      <td>300,000.</td>\n",
       "    </tr>\n",
       "    <tr>\n",
       "      <th>15</th>\n",
       "      <td>16. Cimetière du Montparnasse</td>\n",
       "      <td>6th</td>\n",
       "      <td>Famous cemetery where many famous artists and ...</td>\n",
       "      <td>200,000.</td>\n",
       "    </tr>\n",
       "    <tr>\n",
       "      <th>16</th>\n",
       "      <td>17. Musée de Montmartre</td>\n",
       "      <td>18th</td>\n",
       "      <td>Museum dedicated to the history of the Montmar...</td>\n",
       "      <td>100,000.</td>\n",
       "    </tr>\n",
       "  </tbody>\n",
       "</table>\n",
       "</div>"
      ],
      "text/plain": [
       "                             Name Location  \\\n",
       "0                 1. Eiffel Tower      7th   \n",
       "1                2. Louvre Museum      1st   \n",
       "2         3. Notre Dame Cathedral      4th   \n",
       "3              4. Arc de Triomphe      8th   \n",
       "4               5. Champs-Elysées      8th   \n",
       "5                   6. Montmartre     18th   \n",
       "6                7. Musée d'Orsay      7th   \n",
       "7              8. Sainte-Chapelle      1st   \n",
       "8               9. Palais Garnier      9th   \n",
       "9                10. Musée Grévin      8th   \n",
       "10              11. Pont des Arts      5th   \n",
       "11         12. Luxembourg Gardens      6th   \n",
       "12     13. Sainte-Marie de la Mar      4th   \n",
       "13           14. Musée Carnavalet      3rd   \n",
       "14             15. Picasso Museum      3rd   \n",
       "15  16. Cimetière du Montparnasse      6th   \n",
       "16        17. Musée de Montmartre     18th   \n",
       "\n",
       "                                          Description      Visitors  \n",
       "0   The most iconic landmark in Paris, offers pano...    7 million.  \n",
       "1   Home to Mona Lisa and thousands of other works...  8.5 million.  \n",
       "2   One of the most beautiful cathedrals in the wo...    1 million.  \n",
       "3   Tall monument honoring the soldiers who fought...    7 million.  \n",
       "4   Famous avenue lined with cafes, shops, and the...    3 million.  \n",
       "5   Historic neighborhood known for its bohemian v...    2 million.  \n",
       "6   Houses an impressive collection of Impressioni...    3 million.  \n",
       "7   Known for its stunning stained glass windows a...    1 million.  \n",
       "8   Famous opera house with opulent architecture a...  1.5 million.  \n",
       "9   Wax museum featuring lifelike replicas of famo...  1.5 million.  \n",
       "10  Popular pedestrian bridge with stunning views ...    1 million.  \n",
       "11  Beautiful green space with fountains, statues,...    1 million.  \n",
       "12  Historic church with beautiful stained glass w...      500,000.  \n",
       "13           Museum dedicated to the history of Paris      500,000.  \n",
       "14   Houses an extensive collection of Picasso's work      300,000.  \n",
       "15  Famous cemetery where many famous artists and ...      200,000.  \n",
       "16  Museum dedicated to the history of the Montmar...      100,000.  "
      ]
     },
     "metadata": {},
     "output_type": "display_data"
    }
   ],
   "source": [
    "df = pd.DataFrame(filt_dat)\n",
    "df.columns = [\"Name\", \"Location\", \"Description\", \"Visitors\"]\n",
    "print(f\"Number of rows: {df.shape[0]:,}\")\n",
    "display(df)"
   ]
  },
  {
   "cell_type": "markdown",
   "id": "89e87378",
   "metadata": {},
   "source": [
    "## Travel guide function"
   ]
  },
  {
   "cell_type": "code",
   "execution_count": 83,
   "id": "f858de44",
   "metadata": {},
   "outputs": [],
   "source": [
    "def travel_guide(city: str, num_attractions: int = 17) -> pd.DataFrame:\n",
    "    txt = f\"\"\"\n",
    "Make a list of {num_attractions} tourist attractions in {city}, order them by their popularity with the most popular first.\n",
    "For each attaction state the Name, Part of the city, short description, and number of annual visitors.\n",
    "Format the output as PSV with fields \"Name\" | \"Location\" | \"Description\" | \"Visitors\".\n",
    "\"\"\"\n",
    "    data = llm(txt, 10000)\n",
    "    raw_dat = [ list(map(lambda s: str(s).strip(), line.split('|'))) for line in data.split('\\n') ]\n",
    "    filt_dat = list(filter(lambda lst: len(lst)==4, raw_dat))\n",
    "    df = pd.DataFrame(filt_dat, columns=[\"Name\", \"Location\", \"Description\", \"Visitors\"])\n",
    "    print(f\"Number of rows: {df.shape[0]:,}\")\n",
    "    return df"
   ]
  },
  {
   "cell_type": "code",
   "execution_count": 84,
   "id": "0a9e1b67",
   "metadata": {},
   "outputs": [
    {
     "name": "stdout",
     "output_type": "stream",
     "text": [
      "Number of input tokens: 78\n",
      "Number of output tokens: 288\n",
      "Elapsed time: 0:00:04.828133\n",
      "Number of rows: 7\n"
     ]
    },
    {
     "data": {
      "text/html": [
       "<div>\n",
       "<style scoped>\n",
       "    .dataframe tbody tr th:only-of-type {\n",
       "        vertical-align: middle;\n",
       "    }\n",
       "\n",
       "    .dataframe tbody tr th {\n",
       "        vertical-align: top;\n",
       "    }\n",
       "\n",
       "    .dataframe thead th {\n",
       "        text-align: right;\n",
       "    }\n",
       "</style>\n",
       "<table border=\"1\" class=\"dataframe\">\n",
       "  <thead>\n",
       "    <tr style=\"text-align: right;\">\n",
       "      <th></th>\n",
       "      <th>Name</th>\n",
       "      <th>Location</th>\n",
       "      <th>Description</th>\n",
       "      <th>Visitors</th>\n",
       "    </tr>\n",
       "  </thead>\n",
       "  <tbody>\n",
       "    <tr>\n",
       "      <th>0</th>\n",
       "      <td>Name</td>\n",
       "      <td>Location</td>\n",
       "      <td>Description</td>\n",
       "      <td>Visitors</td>\n",
       "    </tr>\n",
       "    <tr>\n",
       "      <th>1</th>\n",
       "      <td>B Brandenburg Gate</td>\n",
       "      <td>Mitte</td>\n",
       "      <td>Iconic landmark, symbol of Berlin</td>\n",
       "      <td>3,500,000</td>\n",
       "    </tr>\n",
       "    <tr>\n",
       "      <th>2</th>\n",
       "      <td>1. Brandenburg Gate</td>\n",
       "      <td>Mitte</td>\n",
       "      <td>Iconic landmark, symbol of Berlin</td>\n",
       "      <td>3,500,000</td>\n",
       "    </tr>\n",
       "    <tr>\n",
       "      <th>3</th>\n",
       "      <td>2. Berlin Wall Memorial</td>\n",
       "      <td>Prenzlauer Berg</td>\n",
       "      <td>Memorial to the division of Berlin</td>\n",
       "      <td>1,500,000</td>\n",
       "    </tr>\n",
       "    <tr>\n",
       "      <th>4</th>\n",
       "      <td>3. Museum Island</td>\n",
       "      <td>Spandau</td>\n",
       "      <td>UNESCO World Heritage Site, home to 5 museums</td>\n",
       "      <td>1,200,000</td>\n",
       "    </tr>\n",
       "    <tr>\n",
       "      <th>5</th>\n",
       "      <td>4. Berlin Cathedral</td>\n",
       "      <td>Mitte</td>\n",
       "      <td>Largest church in Berlin, impressive architecture</td>\n",
       "      <td>800,000</td>\n",
       "    </tr>\n",
       "    <tr>\n",
       "      <th>6</th>\n",
       "      <td>5. Checkpoint Charlie Museum</td>\n",
       "      <td>Mitte</td>\n",
       "      <td>Museum dedicated to the history of the Berlin ...</td>\n",
       "      <td>600,000</td>\n",
       "    </tr>\n",
       "  </tbody>\n",
       "</table>\n",
       "</div>"
      ],
      "text/plain": [
       "                           Name         Location  \\\n",
       "0                          Name         Location   \n",
       "1            B Brandenburg Gate            Mitte   \n",
       "2           1. Brandenburg Gate            Mitte   \n",
       "3       2. Berlin Wall Memorial  Prenzlauer Berg   \n",
       "4              3. Museum Island          Spandau   \n",
       "5           4. Berlin Cathedral            Mitte   \n",
       "6  5. Checkpoint Charlie Museum            Mitte   \n",
       "\n",
       "                                         Description   Visitors  \n",
       "0                                        Description   Visitors  \n",
       "1                  Iconic landmark, symbol of Berlin  3,500,000  \n",
       "2                  Iconic landmark, symbol of Berlin  3,500,000  \n",
       "3                 Memorial to the division of Berlin  1,500,000  \n",
       "4      UNESCO World Heritage Site, home to 5 museums  1,200,000  \n",
       "5  Largest church in Berlin, impressive architecture    800,000  \n",
       "6  Museum dedicated to the history of the Berlin ...    600,000  "
      ]
     },
     "metadata": {},
     "output_type": "display_data"
    }
   ],
   "source": [
    "berlin_df = travel_guide(\"Berlin\", 5)\n",
    "display(berlin_df)"
   ]
  },
  {
   "cell_type": "code",
   "execution_count": 85,
   "id": "e7192818",
   "metadata": {},
   "outputs": [
    {
     "name": "stdout",
     "output_type": "stream",
     "text": [
      "Number of input tokens: 78\n",
      "Number of output tokens: 329\n",
      "Elapsed time: 0:00:05.742739\n",
      "Number of rows: 5\n"
     ]
    },
    {
     "data": {
      "text/html": [
       "<div>\n",
       "<style scoped>\n",
       "    .dataframe tbody tr th:only-of-type {\n",
       "        vertical-align: middle;\n",
       "    }\n",
       "\n",
       "    .dataframe tbody tr th {\n",
       "        vertical-align: top;\n",
       "    }\n",
       "\n",
       "    .dataframe thead th {\n",
       "        text-align: right;\n",
       "    }\n",
       "</style>\n",
       "<table border=\"1\" class=\"dataframe\">\n",
       "  <thead>\n",
       "    <tr style=\"text-align: right;\">\n",
       "      <th></th>\n",
       "      <th>Name</th>\n",
       "      <th>Location</th>\n",
       "      <th>Description</th>\n",
       "      <th>Visitors</th>\n",
       "    </tr>\n",
       "  </thead>\n",
       "  <tbody>\n",
       "    <tr>\n",
       "      <th>0</th>\n",
       "      <td>1. La Sagrada Familia</td>\n",
       "      <td>Eixample</td>\n",
       "      <td>Gaudi's masterpiece, a massive cathedral with ...</td>\n",
       "      <td>10,000,000</td>\n",
       "    </tr>\n",
       "    <tr>\n",
       "      <th>1</th>\n",
       "      <td>2. Park Güell</td>\n",
       "      <td>Gràcia</td>\n",
       "      <td>A public park designed by Gaudí, featuring stu...</td>\n",
       "      <td>8,000,000</td>\n",
       "    </tr>\n",
       "    <tr>\n",
       "      <th>2</th>\n",
       "      <td>3. La Rambla</td>\n",
       "      <td>Ciutat Vella</td>\n",
       "      <td>A bustling pedestrian street lined with street...</td>\n",
       "      <td>6,000,000</td>\n",
       "    </tr>\n",
       "    <tr>\n",
       "      <th>3</th>\n",
       "      <td>4. Barceloneta Beach</td>\n",
       "      <td>Sant Martí</td>\n",
       "      <td>A popular beach with clear waters and a lively...</td>\n",
       "      <td>5,000,000</td>\n",
       "    </tr>\n",
       "    <tr>\n",
       "      <th>4</th>\n",
       "      <td>5. Casa Batlló</td>\n",
       "      <td>Eixample</td>\n",
       "      <td>A unique and colorful house designed by Gaudí,...</td>\n",
       "      <td>4,000,000</td>\n",
       "    </tr>\n",
       "  </tbody>\n",
       "</table>\n",
       "</div>"
      ],
      "text/plain": [
       "                    Name      Location  \\\n",
       "0  1. La Sagrada Familia      Eixample   \n",
       "1          2. Park Güell        Gràcia   \n",
       "2           3. La Rambla  Ciutat Vella   \n",
       "3   4. Barceloneta Beach    Sant Martí   \n",
       "4         5. Casa Batlló      Eixample   \n",
       "\n",
       "                                         Description    Visitors  \n",
       "0  Gaudi's masterpiece, a massive cathedral with ...  10,000,000  \n",
       "1  A public park designed by Gaudí, featuring stu...   8,000,000  \n",
       "2  A bustling pedestrian street lined with street...   6,000,000  \n",
       "3  A popular beach with clear waters and a lively...   5,000,000  \n",
       "4  A unique and colorful house designed by Gaudí,...   4,000,000  "
      ]
     },
     "metadata": {},
     "output_type": "display_data"
    }
   ],
   "source": [
    "barcelona_df = travel_guide(\"Barcelona\", 5)\n",
    "display(barcelona_df)"
   ]
  },
  {
   "cell_type": "code",
   "execution_count": 86,
   "id": "f12fd2ae",
   "metadata": {},
   "outputs": [
    {
     "name": "stdout",
     "output_type": "stream",
     "text": [
      "Number of input tokens: 78\n",
      "Number of output tokens: 313\n",
      "Elapsed time: 0:00:05.374180\n",
      "Number of rows: 5\n"
     ]
    },
    {
     "data": {
      "text/html": [
       "<div>\n",
       "<style scoped>\n",
       "    .dataframe tbody tr th:only-of-type {\n",
       "        vertical-align: middle;\n",
       "    }\n",
       "\n",
       "    .dataframe tbody tr th {\n",
       "        vertical-align: top;\n",
       "    }\n",
       "\n",
       "    .dataframe thead th {\n",
       "        text-align: right;\n",
       "    }\n",
       "</style>\n",
       "<table border=\"1\" class=\"dataframe\">\n",
       "  <thead>\n",
       "    <tr style=\"text-align: right;\">\n",
       "      <th></th>\n",
       "      <th>Name</th>\n",
       "      <th>Location</th>\n",
       "      <th>Description</th>\n",
       "      <th>Visitors</th>\n",
       "    </tr>\n",
       "  </thead>\n",
       "  <tbody>\n",
       "    <tr>\n",
       "      <th>0</th>\n",
       "      <td>1. Georgia Aquarium</td>\n",
       "      <td>Downtown</td>\n",
       "      <td>Largest aquarium in the world with thousands o...</td>\n",
       "      <td>10,000,000.</td>\n",
       "    </tr>\n",
       "    <tr>\n",
       "      <th>1</th>\n",
       "      <td>2. Centennial Olympic Park</td>\n",
       "      <td>Downtown</td>\n",
       "      <td>21-acre park built for the 1996 Summer Olympics</td>\n",
       "      <td>10,000,000.</td>\n",
       "    </tr>\n",
       "    <tr>\n",
       "      <th>2</th>\n",
       "      <td>3. World of Coca-Cola</td>\n",
       "      <td>Downtown</td>\n",
       "      <td>Interactive museum showcasing the history of t...</td>\n",
       "      <td>7,000,000.</td>\n",
       "    </tr>\n",
       "    <tr>\n",
       "      <th>3</th>\n",
       "      <td>4. Stone Mountain Park</td>\n",
       "      <td>Stone Mountain</td>\n",
       "      <td>Historic plantation and mountain with hiking t...</td>\n",
       "      <td>6,000,000.</td>\n",
       "    </tr>\n",
       "    <tr>\n",
       "      <th>4</th>\n",
       "      <td>5. Martin Luther King Jr. National Historical ...</td>\n",
       "      <td>Southeast</td>\n",
       "      <td>Site of Dr. King's birthplace, the Ebenezer Ba...</td>\n",
       "      <td>3,000,000.</td>\n",
       "    </tr>\n",
       "  </tbody>\n",
       "</table>\n",
       "</div>"
      ],
      "text/plain": [
       "                                                Name        Location  \\\n",
       "0                                1. Georgia Aquarium        Downtown   \n",
       "1                         2. Centennial Olympic Park        Downtown   \n",
       "2                              3. World of Coca-Cola        Downtown   \n",
       "3                             4. Stone Mountain Park  Stone Mountain   \n",
       "4  5. Martin Luther King Jr. National Historical ...       Southeast   \n",
       "\n",
       "                                         Description     Visitors  \n",
       "0  Largest aquarium in the world with thousands o...  10,000,000.  \n",
       "1    21-acre park built for the 1996 Summer Olympics  10,000,000.  \n",
       "2  Interactive museum showcasing the history of t...   7,000,000.  \n",
       "3  Historic plantation and mountain with hiking t...   6,000,000.  \n",
       "4  Site of Dr. King's birthplace, the Ebenezer Ba...   3,000,000.  "
      ]
     },
     "metadata": {},
     "output_type": "display_data"
    }
   ],
   "source": [
    "atlanta_df = travel_guide(\"Atlanta\", 5)\n",
    "display(atlanta_df)"
   ]
  },
  {
   "cell_type": "markdown",
   "id": "941fe52d",
   "metadata": {},
   "source": [
    "### Terminate the notebook kernel after you're done to release the GPU resources!"
   ]
  }
 ],
 "metadata": {
  "kernelspec": {
   "display_name": "Python 3 (ipykernel)",
   "language": "python",
   "name": "python3"
  },
  "language_info": {
   "codemirror_mode": {
    "name": "ipython",
    "version": 3
   },
   "file_extension": ".py",
   "mimetype": "text/x-python",
   "name": "python",
   "nbconvert_exporter": "python",
   "pygments_lexer": "ipython3",
   "version": "3.8.6"
  }
 },
 "nbformat": 4,
 "nbformat_minor": 5
}
