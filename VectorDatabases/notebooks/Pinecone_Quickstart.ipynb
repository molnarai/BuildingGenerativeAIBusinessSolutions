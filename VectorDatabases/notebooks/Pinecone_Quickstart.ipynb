{
 "cells": [
  {
   "cell_type": "markdown",
   "metadata": {
    "id": "8KNEuM_G83vi"
   },
   "source": [
    "[![Open In Colab](https://colab.research.google.com/assets/colab-badge.svg)](https://colab.research.google.com/github/pinecone-io/examples/blob/master/docs/pinecone-quickstart.ipynb) [![Open nbviewer](https://raw.githubusercontent.com/pinecone-io/examples/master/assets/nbviewer-shield.svg)](https://nbviewer.org/github/pinecone-io/examples/blob/master/docs/pinecone-quickstart.ipynb)\n",
    "\n",
    "# Pinecone Database quickstart\n",
    "\n",
    "This notebook shows you how to set up and use Pinecone Database for high-performance similarity search."
   ]
  },
  {
   "cell_type": "markdown",
   "metadata": {},
   "source": [
    "Source:\n",
    "https://colab.research.google.com/github/pinecone-io/examples/blob/master/docs/pinecone-quickstart.ipynb"
   ]
  },
  {
   "cell_type": "markdown",
   "metadata": {
    "id": "mjJUDk6xAA_r"
   },
   "source": [
    "## Install an SDK\n",
    "\n",
    "Pinecone provides [SDKs](https://docs.pinecone.io/reference/pinecone-sdks) in multiple languages.\n",
    "\n",
    "For this quickstart, install the Python SDK and a library that makes it easy to sign up with Pinecone:"
   ]
  },
  {
   "cell_type": "code",
   "execution_count": 1,
   "metadata": {
    "id": "4SudLike98WL"
   },
   "outputs": [],
   "source": [
    "# !pip install -qU \\\n",
    "#     pinecone \\\n",
    "#     pinecone-notebooks"
   ]
  },
  {
   "cell_type": "markdown",
   "metadata": {
    "id": "WoDXUiIkD1U7"
   },
   "source": [
    "## Get an API key\n",
    "\n",
    "You need an API key to make calls to your Pinecone project.\n",
    "\n",
    "Use the widget below to generate a key. If you don't have a Pinecone account, the widget will sign you up for the free Starter plan."
   ]
  },
  {
   "cell_type": "code",
   "execution_count": 2,
   "metadata": {
    "colab": {
     "base_uri": "https://localhost:8080/",
     "height": 247
    },
    "id": "89S8G8oP61-t",
    "outputId": "8cf57515-28e1-4953-b86d-d23dad4ea9fe"
   },
   "outputs": [],
   "source": [
    "import os\n",
    "\n",
    "# Initialize Pinecone (replace with your API key and environment)\n",
    "PINECONE_API_KEY = open(\"/Users/mjack6/.secrets/pinecone_mjack.apikey\", \"r\").read().strip()\n",
    "\n",
    "os.environ[\"PINECONE_API_KEY\"] = PINECONE_API_KEY\n",
    "\n",
    "if not os.environ.get(\"PINECONE_API_KEY\"):\n",
    "    from pinecone_notebooks.colab import Authenticate\n",
    "    Authenticate()"
   ]
  },
  {
   "cell_type": "markdown",
   "metadata": {
    "id": "sbJFp5DO5ryT"
   },
   "source": [
    "## Initialize a client\n",
    "\n",
    "Use the generated API key to intialize a client connection to Pinecone:"
   ]
  },
  {
   "cell_type": "code",
   "execution_count": 3,
   "metadata": {
    "id": "e9rr_u6ZIvZ-"
   },
   "outputs": [
    {
     "name": "stderr",
     "output_type": "stream",
     "text": [
      "/Users/mjack6/GSU_Spring2025/MSA8700/venv_rag/lib/python3.9/site-packages/urllib3/__init__.py:35: NotOpenSSLWarning: urllib3 v2 only supports OpenSSL 1.1.1+, currently the 'ssl' module is compiled with 'LibreSSL 2.8.3'. See: https://github.com/urllib3/urllib3/issues/3020\n",
      "  warnings.warn(\n"
     ]
    }
   ],
   "source": [
    "from pinecone import Pinecone, ServerlessSpec\n",
    "\n",
    "api_key = os.environ.get(\"PINECONE_API_KEY\")\n",
    "\n",
    "pc = Pinecone(api_key=api_key)"
   ]
  },
  {
   "cell_type": "markdown",
   "metadata": {
    "id": "bN9Rl7GP258C"
   },
   "source": [
    "## Generate vectors\n",
    "\n",
    "A [vector embedding](https://www.pinecone.io/learn/vector-embeddings/) is a numerical representation of data that enables similarity-based search in vector databases like Pinecone. To convert data into this format, you use an embedding model.\n",
    "\n",
    "For this quickstart, use the [`multilingual-e5-large`](https://docs.pinecone.io/models/multilingual-e5-large) embedding model hosted by Pinecone to [convert](https://docs.pinecone.io/guides/inference/generate-embeddings) four sentences about apples into vectors, three related to health, one related to cultivation."
   ]
  },
  {
   "cell_type": "code",
   "execution_count": 4,
   "metadata": {
    "id": "ZIclo2UK3NFE"
   },
   "outputs": [
    {
     "name": "stdout",
     "output_type": "stream",
     "text": [
      "EmbeddingsList(\n",
      "  model='multilingual-e5-large',\n",
      "  vector_type='dense',\n",
      "  data=[\n",
      "    {'vector_type': dense, 'values': [0.04205322265625, -0.00951385498046875, ..., -0.050506591796875, -0.01019287109375]},\n",
      "    {'vector_type': dense, 'values': [0.033203125, -0.018524169921875, ..., -0.00965118408203125, -0.0240631103515625]},\n",
      "    {'vector_type': dense, 'values': [0.033599853515625, -0.00600433349609375, ..., -0.005611419677734375, -0.0251922607421875]},\n",
      "    {'vector_type': dense, 'values': [0.00972747802734375, -0.01181793212890625, ..., -0.0252227783203125, -0.006389617919921875]}\n",
      "  ],\n",
      "  usage={'total_tokens': 118}\n",
      ")\n"
     ]
    }
   ],
   "source": [
    "# Define a sample dataset where each item has a unique ID, text, and category\n",
    "data = [\n",
    "    {\n",
    "        \"id\": \"rec1\",\n",
    "        \"text\": \"Apples are a great source of dietary fiber, which supports digestion and helps maintain a healthy gut.\",\n",
    "        \"category\": \"digestive system\"\n",
    "    },\n",
    "    {\n",
    "        \"id\": \"rec2\",\n",
    "        \"text\": \"Apples originated in Central Asia and have been cultivated for thousands of years, with over 7,500 varieties available today.\",\n",
    "        \"category\": \"cultivation\"\n",
    "    },\n",
    "    {\n",
    "        \"id\": \"rec3\",\n",
    "        \"text\": \"Rich in vitamin C and other antioxidants, apples contribute to immune health and may reduce the risk of chronic diseases.\",\n",
    "        \"category\": \"immune system\"\n",
    "    },\n",
    "    {\n",
    "        \"id\": \"rec4\",\n",
    "        \"text\": \"The high fiber content in apples can also help regulate blood sugar levels, making them a favorable snack for people with diabetes.\",\n",
    "        \"category\": \"endocrine system\"\n",
    "    }\n",
    "]\n",
    "\n",
    "# Convert the text into numerical vectors that Pinecone can index\n",
    "embeddings = pc.inference.embed(\n",
    "    model=\"multilingual-e5-large\",\n",
    "    inputs=[d[\"text\"] for d in data],\n",
    "    parameters={\n",
    "        \"input_type\": \"passage\",\n",
    "        \"truncate\": \"END\"\n",
    "    }\n",
    ")\n",
    "\n",
    "print(embeddings)"
   ]
  },
  {
   "cell_type": "markdown",
   "metadata": {
    "id": "VpgIIsLlJGFf"
   },
   "source": [
    "## Create an index\n",
    "\n",
    "In Pinecone, you store data in an [index](https://docs.pinecone.io/guides/indexes/understanding-indexes).\n",
    "\n",
    "Create a serverless index that matches the dimension (`1024`) and similarity metric (`cosine`) of the `multilingual-e5-large` model you used in the previous step, and choose a [cloud and region](https://docs.pinecone.io/guides/indexes/understanding-indexes#cloud-regions) for hosting the index:"
   ]
  },
  {
   "cell_type": "code",
   "execution_count": 5,
   "metadata": {
    "id": "Buo2K1h8O_fN"
   },
   "outputs": [],
   "source": [
    "index_name = \"docs-quickstart-notebook\""
   ]
  },
  {
   "cell_type": "code",
   "execution_count": 6,
   "metadata": {
    "id": "MaqbcsI4I1gU"
   },
   "outputs": [],
   "source": [
    "import time\n",
    "\n",
    "if not pc.has_index(index_name):\n",
    "    pc.create_index(\n",
    "        name=index_name,\n",
    "        dimension=1024,\n",
    "        metric=\"cosine\",\n",
    "        spec=ServerlessSpec(\n",
    "            cloud='aws',\n",
    "            region='us-east-1'\n",
    "        )\n",
    "    )\n",
    "\n",
    "# Wait for the index to be ready\n",
    "while not pc.describe_index(index_name).status['ready']:\n",
    "    time.sleep(1)"
   ]
  },
  {
   "cell_type": "markdown",
   "metadata": {
    "id": "tNAgla6IKWie"
   },
   "source": [
    "## Upsert vectors\n",
    "\n",
    "Target your index and use the [`upsert`](https://docs.pinecone.io/guides/data/upsert-data) operation to load your vector embeddings into a new namespace.\n",
    "\n",
    "**Note:** [Namespaces](https://docs.pinecone.io/guides/get-started/key-features#namespaces) let you partition records within an index and are essential for [implementing multitenancy](https://docs.pinecone.io/guides/get-started/implement-multitenancy) when you need to isolate the data of each customer/user.\n"
   ]
  },
  {
   "cell_type": "code",
   "execution_count": 7,
   "metadata": {
    "id": "Ri6RX7FEiV4C"
   },
   "outputs": [
    {
     "data": {
      "text/plain": [
       "{'upserted_count': 4}"
      ]
     },
     "execution_count": 7,
     "metadata": {},
     "output_type": "execute_result"
    }
   ],
   "source": [
    "# Target the index\n",
    "# In production, target an index by its unique DNS host, not by its name\n",
    "# See https://docs.pinecone.io/guides/data/target-an-index\n",
    "index = pc.Index(index_name)\n",
    "\n",
    "# Prepare the records for upsert\n",
    "# Each contains an 'id', the vector 'values',\n",
    "# and the original text and category as 'metadata'\n",
    "records = []\n",
    "for d, e in zip(data, embeddings):\n",
    "    records.append({\n",
    "        \"id\": d[\"id\"],\n",
    "        \"values\": e[\"values\"],\n",
    "        \"metadata\": {\n",
    "            \"source_text\": d[\"text\"],\n",
    "            \"category\": d[\"category\"]\n",
    "        }\n",
    "    })\n",
    "\n",
    "# Upsert the records into the index\n",
    "index.upsert(\n",
    "    vectors=records,\n",
    "    namespace=\"example-namespace\"\n",
    ")"
   ]
  },
  {
   "cell_type": "markdown",
   "metadata": {
    "id": "fqVA4OrlidX2"
   },
   "source": [
    "**Note:** To load large amounts of data, [import from object storage](https://docs.pinecone.io/guides/data/understanding-imports) or [upsert in large batches](https://docs.pinecone.io/guides/data/upsert-data#upsert-records-in-batches)."
   ]
  },
  {
   "cell_type": "markdown",
   "metadata": {
    "id": "AsVqrR2YipPM"
   },
   "source": [
    "## Check the index\n",
    "\n",
    "Pinecone is eventually consistent, so there can be a delay before your upserted vectors are available to query. Use the [`describe_index_stats`](https://docs.pinecone.io/guides/data/data-freshness/check-data-freshness) operation to check if the current vector count matches the number of vectors you upserted:"
   ]
  },
  {
   "cell_type": "code",
   "execution_count": 8,
   "metadata": {
    "id": "ANfVNxzDivEY"
   },
   "outputs": [
    {
     "name": "stdout",
     "output_type": "stream",
     "text": [
      "{'dimension': 1024,\n",
      " 'index_fullness': 0.0,\n",
      " 'metric': 'cosine',\n",
      " 'namespaces': {},\n",
      " 'total_vector_count': 0,\n",
      " 'vector_type': 'dense'}\n"
     ]
    }
   ],
   "source": [
    "time.sleep(10)  # Wait for the upserted vectors to be indexed\n",
    "\n",
    "print(index.describe_index_stats())"
   ]
  },
  {
   "cell_type": "markdown",
   "metadata": {
    "id": "6cNHN6_xjYm-"
   },
   "source": [
    "## Search the index\n",
    "\n",
    "Now, let’s say you want to search your index for information related to \"health risks\".\n",
    "\n",
    "Use the the `multilingual-e5-large` model hosted by Pinecone *to* convert your query into a vector embedding, and then use the [`query`](https://docs.pinecone.io/guides/data/query-data) operation to search for the three vectors in the index that are most semantically similar to the query vector:"
   ]
  },
  {
   "cell_type": "code",
   "execution_count": 9,
   "metadata": {
    "id": "RyP4EQX8jcLn"
   },
   "outputs": [
    {
     "name": "stdout",
     "output_type": "stream",
     "text": [
      "{'matches': [], 'namespace': 'example-namespace', 'usage': {'read_units': 1}}\n"
     ]
    }
   ],
   "source": [
    "# Define your query\n",
    "query = \"Health risks\"\n",
    "\n",
    "# Convert the query into a numerical vector that Pinecone can search with\n",
    "query_embedding = pc.inference.embed(\n",
    "    model=\"multilingual-e5-large\",\n",
    "    inputs=[query],\n",
    "    parameters={\n",
    "        \"input_type\": \"query\"\n",
    "    }\n",
    ")\n",
    "\n",
    "# Search the index for the three most similar vectors\n",
    "results = index.query(\n",
    "    namespace=\"example-namespace\",\n",
    "    vector=query_embedding[0].values,\n",
    "    top_k=3,\n",
    "    include_values=False,\n",
    "    include_metadata=True\n",
    ")\n",
    "\n",
    "print(results)"
   ]
  },
  {
   "cell_type": "markdown",
   "metadata": {
    "id": "9jAJDjSAjsvA"
   },
   "source": [
    "Notice that the response includes only records related to health, not the cultivation of apple."
   ]
  },
  {
   "cell_type": "markdown",
   "metadata": {
    "id": "ayZib8aEUYR_"
   },
   "source": [
    "## Add reranking\n",
    "\n",
    "You can increase the accuracy of your search by reranking results based on their relevance to the query.\n",
    "\n",
    "Use the `rerank` operation and the `bge-reranker-v2-m3` reranking model hosted by Pinecone to rerank the values of the documents.source_text fields:"
   ]
  },
  {
   "cell_type": "code",
   "execution_count": 10,
   "metadata": {
    "id": "SyPG_OmwUjtm"
   },
   "outputs": [
    {
     "name": "stdout",
     "output_type": "stream",
     "text": [
      "RerankResult(\n",
      "  model='bge-reranker-v2-m3',\n",
      "  data=[{\n",
      "    index=0,\n",
      "    score=0.13683891,\n",
      "    document={\n",
      "        id='rec3',\n",
      "        source_text='Rich in vitamin C and other antioxidants, apples contribute to immune health and may reduce the risk of chronic diseases.'\n",
      "    }\n",
      "  },{\n",
      "    index=1,\n",
      "    score=0.0023596608,\n",
      "    document={\n",
      "        id='rec1',\n",
      "        source_text='Apples are a great source of dietary fiber, which supports digestion and helps maintain a healthy gut.'\n",
      "    }\n",
      "  },{\n",
      "    index=2,\n",
      "    score=0.00084264233,\n",
      "    document={\n",
      "        id='rec4',\n",
      "        source_text='The high fiber content in apples can also help regulate blood sugar levels, making them a favorable snack for people with diabetes.'\n",
      "    }\n",
      "  }],\n",
      "  usage={'rerank_units': 1}\n",
      ")\n"
     ]
    }
   ],
   "source": [
    "# Rerank the search results based on their relevance to the query\n",
    "ranked_results = pc.inference.rerank(\n",
    "    model=\"bge-reranker-v2-m3\",\n",
    "    query=\"Disease prevention\",\n",
    "    documents=[\n",
    "        {\"id\": \"rec3\", \"source_text\": \"Rich in vitamin C and other antioxidants, apples contribute to immune health and may reduce the risk of chronic diseases.\"},\n",
    "        {\"id\": \"rec1\", \"source_text\": \"Apples are a great source of dietary fiber, which supports digestion and helps maintain a healthy gut.\"},\n",
    "        {\"id\": \"rec4\", \"source_text\": \"The high fiber content in apples can also help regulate blood sugar levels, making them a favorable snack for people with diabetes.\"}\n",
    "    ],\n",
    "    top_n=3,\n",
    "    rank_fields=[\"source_text\"],\n",
    "    return_documents=True,\n",
    "    parameters={\n",
    "        \"truncate\": \"END\"\n",
    "    }\n",
    ")\n",
    "\n",
    "print(ranked_results)\n"
   ]
  },
  {
   "cell_type": "markdown",
   "metadata": {
    "id": "QTkhBFJHUnj0"
   },
   "source": [
    "Notice that the two records specifically related to \"health risks\" (chronic disease and diabetes) are now ranked highest."
   ]
  },
  {
   "cell_type": "markdown",
   "metadata": {
    "id": "nGjpffT5UrrL"
   },
   "source": [
    "## Add filtering\n",
    "\n",
    "You can use a [metadata filter](https://docs.pinecone.io/guides/data/understanding-metadata) to limit your search to records matching a filter expression.\n",
    "\n",
    "Your upserted records contain a `category` metadata field. Now use that field as a filter to search for records in the “digestive system” category:"
   ]
  },
  {
   "cell_type": "code",
   "execution_count": 11,
   "metadata": {
    "id": "KkH7Wre3Ux5B"
   },
   "outputs": [
    {
     "name": "stdout",
     "output_type": "stream",
     "text": [
      "{'matches': [], 'namespace': 'example-namespace', 'usage': {'read_units': 1}}\n"
     ]
    }
   ],
   "source": [
    "# Search the index with a metadata filter\n",
    "filtered_results = index.query(\n",
    "    namespace=\"example-namespace\",\n",
    "    vector=query_embedding.data[0].values,\n",
    "    filter={\n",
    "        \"category\": {\"$eq\": \"digestive system\"}\n",
    "    },\n",
    "    top_k=3,\n",
    "    include_values=False,\n",
    "    include_metadata=True\n",
    ")\n",
    "\n",
    "print(filtered_results)"
   ]
  },
  {
   "cell_type": "markdown",
   "metadata": {
    "id": "awumy10tU2Lv"
   },
   "source": [
    "Notice that the response includes only the one record in the “digestive system” category."
   ]
  },
  {
   "cell_type": "markdown",
   "metadata": {},
   "source": [
    "## Clean up\n",
    "\n",
    "When you no longer need the `docs-quickstart-notebook` index, use the [`delete_index`](https://docs.pinecone.io/reference/api/control-plane/delete_index) operation to delete it:"
   ]
  },
  {
   "cell_type": "code",
   "execution_count": 12,
   "metadata": {},
   "outputs": [],
   "source": [
    "pc.delete_index(index_name)\n",
    "# pc.delete_index(\"docs-quickstart-notebook\")"
   ]
  },
  {
   "cell_type": "markdown",
   "metadata": {},
   "source": [
    "## IMPORTANT: After you delete an index, you cannot use it again or recover it."
   ]
  },
  {
   "cell_type": "code",
   "execution_count": 17,
   "metadata": {},
   "outputs": [],
   "source": []
  },
  {
   "cell_type": "markdown",
   "metadata": {},
   "source": [
    "## New Example:"
   ]
  },
  {
   "cell_type": "code",
   "execution_count": 31,
   "metadata": {},
   "outputs": [],
   "source": [
    "index_name = \"new-docs-example\"\n",
    "\n",
    "if not pc.has_index(index_name):\n",
    "    pc.create_index(\n",
    "        name=index_name,\n",
    "        dimension=3,\n",
    "        metric=\"cosine\",\n",
    "        spec=ServerlessSpec(\n",
    "            cloud='aws',\n",
    "            region='us-east-1'\n",
    "        )\n",
    "    )\n",
    "\n",
    "# Wait for the index to be ready\n",
    "while not pc.describe_index(index_name).status['ready']:\n",
    "    time.sleep(1)"
   ]
  },
  {
   "cell_type": "code",
   "execution_count": 32,
   "metadata": {},
   "outputs": [],
   "source": [
    "# Connect to the index\n",
    "index = pc.Index(index_name)"
   ]
  },
  {
   "cell_type": "code",
   "execution_count": 33,
   "metadata": {},
   "outputs": [
    {
     "data": {
      "text/plain": [
       "{'upserted_count': 3}"
      ]
     },
     "execution_count": 33,
     "metadata": {},
     "output_type": "execute_result"
    }
   ],
   "source": [
    "# Upsert vectors\n",
    "vectors_to_upsert = [\n",
    "    (\"vec1\", [0.1, 0.2, 0.3]),\n",
    "    (\"vec2\", [0.4, 0.5, 0.6]),\n",
    "    (\"vec3\", [0.7, 0.8, 0.9])\n",
    "]\n",
    "\n",
    "index.upsert(\n",
    "    vectors=vectors_to_upsert,\n",
    "    namespace=\"new-docs-example\",\n",
    "    )"
   ]
  },
  {
   "cell_type": "code",
   "execution_count": 38,
   "metadata": {},
   "outputs": [
    {
     "name": "stdout",
     "output_type": "stream",
     "text": [
      "{'matches': [{'id': 'vec2', 'score': 0.99999994, 'values': [0.4, 0.5, 0.6]},\n",
      "             {'id': 'vec3', 'score': 0.99819088, 'values': [0.7, 0.8, 0.9]}],\n",
      " 'namespace': 'new-docs-example',\n",
      " 'usage': {'read_units': 6}}\n"
     ]
    }
   ],
   "source": [
    "# Query the index\n",
    "query_vector = [0.4, 0.5, 0.6]\n",
    "results = index.query(\n",
    "    vector=query_vector, \n",
    "    top_k=2, \n",
    "    include_values=True,\n",
    "    namespace=\"new-docs-example\",\n",
    "    )\n",
    "print(results)"
   ]
  },
  {
   "cell_type": "code",
   "execution_count": 39,
   "metadata": {},
   "outputs": [
    {
     "name": "stdout",
     "output_type": "stream",
     "text": [
      "{}\n"
     ]
    }
   ],
   "source": [
    "# Delete vectors\n",
    "ids_to_delete = [\"vec2\"]\n",
    "results = index.delete(\n",
    "    ids=ids_to_delete,\n",
    "    namespace=\"new-docs-example\",\n",
    "    )\n",
    "print(results)"
   ]
  },
  {
   "cell_type": "code",
   "execution_count": 40,
   "metadata": {},
   "outputs": [
    {
     "name": "stdout",
     "output_type": "stream",
     "text": [
      "FetchResponse(namespace='new-docs-example', vectors={'vec3': Vector(id='vec3', values=[0.7, 0.8, 0.9], metadata=None, sparse_values=None)}, usage={'read_units': 1})\n"
     ]
    }
   ],
   "source": [
    "# Fetch vectors\n",
    "ids_to_fetch = [\"vec2\", \"vec3\"]\n",
    "fetch_response = index.fetch(\n",
    "    ids=ids_to_fetch,\n",
    "    namespace=\"new-docs-example\",\n",
    "    )\n",
    "print(fetch_response)"
   ]
  },
  {
   "cell_type": "markdown",
   "metadata": {
    "id": "DavgcphWjwWw"
   },
   "source": [
    "## Clean up"
   ]
  },
  {
   "cell_type": "code",
   "execution_count": 41,
   "metadata": {
    "id": "1iHV2Y0ujy0y"
   },
   "outputs": [],
   "source": [
    "pc.delete_index(index_name)\n",
    "# pc.delete_index(\"new-docs-example\")"
   ]
  },
  {
   "cell_type": "code",
   "execution_count": null,
   "metadata": {},
   "outputs": [],
   "source": []
  }
 ],
 "metadata": {
  "colab": {
   "provenance": []
  },
  "kernelspec": {
   "display_name": "Python 3 (ipykernel)",
   "language": "python",
   "name": "python3"
  },
  "language_info": {
   "codemirror_mode": {
    "name": "ipython",
    "version": 3
   },
   "file_extension": ".py",
   "mimetype": "text/x-python",
   "name": "python",
   "nbconvert_exporter": "python",
   "pygments_lexer": "ipython3",
   "version": "3.10.12"
  }
 },
 "nbformat": 4,
 "nbformat_minor": 4
}
